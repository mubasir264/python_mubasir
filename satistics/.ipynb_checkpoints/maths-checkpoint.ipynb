{
 "cells": [
  {
   "cell_type": "code",
   "execution_count": 10,
   "id": "7f2bb6ef-24e4-46dd-b1c4-acf618b3a1d3",
   "metadata": {},
   "outputs": [
    {
     "data": {
      "text/plain": [
       "32.800000000000004"
      ]
     },
     "execution_count": 10,
     "metadata": {},
     "output_type": "execute_result"
    }
   ],
   "source": [
    "(1-4.2)**2+(2-4.2)**2+(4-4.2)**2+(6-4.2)**2+(8-4.2)**2\n",
    "# standard divison for 1,2,4,6,8"
   ]
  },
  {
   "cell_type": "code",
   "execution_count": 38,
   "id": "39f1fb7c-5f75-446a-802b-160bfc828a5d",
   "metadata": {},
   "outputs": [
    {
     "data": {
      "text/plain": [
       "5.56"
      ]
     },
     "execution_count": 38,
     "metadata": {},
     "output_type": "execute_result"
    }
   ],
   "source": [
    "32.80/5-1\n",
    "#10.24+4.84+0.04+3.24+14.44 / 5-1"
   ]
  },
  {
   "cell_type": "code",
   "execution_count": 34,
   "id": "c8cff373-83dd-4eb8-a345-02d257cb3df6",
   "metadata": {},
   "outputs": [
    {
     "name": "stdout",
     "output_type": "stream",
     "text": [
      "2.5612496949731396\n"
     ]
    }
   ],
   "source": [
    "import numpy as np  # Import the numpy module\n",
    "\n",
    "data = [1, 2, 4, 6, 8]\n",
    "std_dev = np.std(data)\n",
    "print(std_dev)"
   ]
  },
  {
   "cell_type": "code",
   "execution_count": 40,
   "id": "a85e8d6b-db49-43a9-a40e-2416775323a4",
   "metadata": {},
   "outputs": [
    {
     "name": "stdout",
     "output_type": "stream",
     "text": [
      "1.4142135623730951\n"
     ]
    }
   ],
   "source": [
    "data = [1,2,3,4,5]\n",
    "std_dev = np.std(data)\n",
    "print(std_dev)"
   ]
  },
  {
   "cell_type": "code",
   "execution_count": 44,
   "id": "9ddc3ccd-a275-43f3-b218-b157703402d5",
   "metadata": {},
   "outputs": [
    {
     "name": "stdout",
     "output_type": "stream",
     "text": [
      "[[-1.22474487 -1.22474487]\n",
      " [ 0.          0.        ]\n",
      " [ 1.22474487  1.22474487]]\n"
     ]
    }
   ],
   "source": [
    "from sklearn.preprocessing import StandardScaler\n",
    "import numpy as np\n",
    "\n",
    "# Sample data\n",
    "data = np.array([[1, 2], [3, 4], [5, 6]])\n",
    "\n",
    "# Create a StandardScaler object\n",
    "scaler = StandardScaler()\n",
    "\n",
    "# Fit the scaler to the data and transform the data\n",
    "scaled_data = scaler.fit_transform(data)\n",
    "\n",
    "print(scaled_data)"
   ]
  },
  {
   "cell_type": "code",
   "execution_count": null,
   "id": "294213f1-1000-4ff9-bbab-b98a87bfcb47",
   "metadata": {},
   "outputs": [],
   "source": []
  }
 ],
 "metadata": {
  "kernelspec": {
   "display_name": "Python 3 (ipykernel)",
   "language": "python",
   "name": "python3"
  },
  "language_info": {
   "codemirror_mode": {
    "name": "ipython",
    "version": 3
   },
   "file_extension": ".py",
   "mimetype": "text/x-python",
   "name": "python",
   "nbconvert_exporter": "python",
   "pygments_lexer": "ipython3",
   "version": "3.11.7"
  }
 },
 "nbformat": 4,
 "nbformat_minor": 5
}
