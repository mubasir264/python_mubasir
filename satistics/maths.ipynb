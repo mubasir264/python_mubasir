{
 "cells": [
  {
   "cell_type": "code",
   "execution_count": 10,
   "id": "7f2bb6ef-24e4-46dd-b1c4-acf618b3a1d3",
   "metadata": {},
   "outputs": [
    {
     "data": {
      "text/plain": [
       "32.800000000000004"
      ]
     },
     "execution_count": 10,
     "metadata": {},
     "output_type": "execute_result"
    }
   ],
   "source": [
    "(1-4.2)**2+(2-4.2)**2+(4-4.2)**2+(6-4.2)**2+(8-4.2)**2\n",
    "# standard divison for 1,2,4,6,8"
   ]
  },
  {
   "cell_type": "code",
   "execution_count": 38,
   "id": "39f1fb7c-5f75-446a-802b-160bfc828a5d",
   "metadata": {},
   "outputs": [
    {
     "data": {
      "text/plain": [
       "5.56"
      ]
     },
     "execution_count": 38,
     "metadata": {},
     "output_type": "execute_result"
    }
   ],
   "source": [
    "32.80/5-1\n",
    "#10.24+4.84+0.04+3.24+14.44 / 5-1"
   ]
  },
  {
   "cell_type": "code",
   "execution_count": 34,
   "id": "c8cff373-83dd-4eb8-a345-02d257cb3df6",
   "metadata": {},
   "outputs": [
    {
     "name": "stdout",
     "output_type": "stream",
     "text": [
      "2.5612496949731396\n"
     ]
    }
   ],
   "source": [
    "import numpy as np  # Import the numpy module\n",
    "\n",
    "data = [1, 2, 4, 6, 8]\n",
    "std_dev = np.std(data)\n",
    "print(std_dev)"
   ]
  },
  {
   "cell_type": "code",
   "execution_count": 40,
   "id": "a85e8d6b-db49-43a9-a40e-2416775323a4",
   "metadata": {},
   "outputs": [
    {
     "name": "stdout",
     "output_type": "stream",
     "text": [
      "1.4142135623730951\n"
     ]
    }
   ],
   "source": [
    "data = [1,2,3,4,5]\n",
    "std_dev = np.std(data)\n",
    "print(std_dev)"
   ]
  },
  {
   "cell_type": "code",
   "execution_count": 44,
   "id": "9ddc3ccd-a275-43f3-b218-b157703402d5",
   "metadata": {},
   "outputs": [
    {
     "name": "stdout",
     "output_type": "stream",
     "text": [
      "[[-1.22474487 -1.22474487]\n",
      " [ 0.          0.        ]\n",
      " [ 1.22474487  1.22474487]]\n"
     ]
    }
   ],
   "source": [
    "from sklearn.preprocessing import StandardScaler\n",
    "import numpy as np\n",
    "\n",
    "# Sample data\n",
    "data = np.array([[1, 2], [3, 4], [5, 6]])\n",
    "\n",
    "# Create a StandardScaler object\n",
    "scaler = StandardScaler()\n",
    "\n",
    "# Fit the scaler to the data and transform the data\n",
    "scaled_data = scaler.fit_transform(data)\n",
    "\n",
    "print(scaled_data)"
   ]
  },
  {
   "cell_type": "code",
   "execution_count": 8,
   "id": "4de69c2f-159c-496d-86a3-749c1c92c112",
   "metadata": {},
   "outputs": [],
   "source": [
    "import scipy.integrate as integrate\n",
    "import scipy.special as special"
   ]
  },
  {
   "cell_type": "code",
   "execution_count": 24,
   "id": "36cf0c27-4cd6-4a5e-a21f-79ac917cbd64",
   "metadata": {},
   "outputs": [
    {
     "name": "stdout",
     "output_type": "stream",
     "text": [
      "Estimated value of the integral: 99144000000000.0\n",
      "Integration error estimate: 1.1007195155343652\n"
     ]
    }
   ],
   "source": [
    "import scipy.integrate as integrate\n",
    "\n",
    "# Define the function to integrate\n",
    "def f(x):\n",
    "    return 68000 * x\n",
    "\n",
    "# Compute the integral\n",
    "result, error = integrate.quad(f, 0, 54000)\n",
    "\n",
    "# Display the result\n",
    "print(\"Estimated value of the integral:\", result)\n",
    "print(\"Integration error estimate:\", error)\n"
   ]
  },
  {
   "cell_type": "code",
   "execution_count": 22,
   "id": "c1eea23e-63ef-4665-b1b2-16aceadfa855",
   "metadata": {},
   "outputs": [],
   "source": [
    "# z score normally used to find outliear"
   ]
  },
  {
   "cell_type": "code",
   "execution_count": 28,
   "id": "b74fc9a2-79cd-4489-aef6-c9ae16335c0e",
   "metadata": {},
   "outputs": [
    {
     "data": {
      "text/plain": [
       "2.759680000000001"
      ]
     },
     "execution_count": 28,
     "metadata": {},
     "output_type": "execute_result"
    }
   ],
   "source": [
    "1.1 * 1.12 * 2.24\n"
   ]
  },
  {
   "cell_type": "code",
   "execution_count": 14,
   "id": "d0732045-0525-446b-bfc8-bf27ed75c877",
   "metadata": {},
   "outputs": [],
   "source": [
    "a = [[1,2,3]]\n",
    "\n",
    "b = [[1,1,1]]\n",
    "\n",
    "ed = (1-1)**2+(2-1)**2+(3-1)**2"
   ]
  },
  {
   "cell_type": "code",
   "execution_count": 8,
   "id": "ebd27e35-88e3-4463-acc8-0786b32b37c1",
   "metadata": {},
   "outputs": [
    {
     "name": "stdout",
     "output_type": "stream",
     "text": [
      "5\n"
     ]
    }
   ],
   "source": [
    "print(ed)"
   ]
  },
  {
   "cell_type": "code",
   "execution_count": 10,
   "id": "f7f19965-db41-4f95-9957-b626effb9e65",
   "metadata": {},
   "outputs": [
    {
     "name": "stdout",
     "output_type": "stream",
     "text": [
      "[1, 2, 3, 1, 1, 1]\n"
     ]
    }
   ],
   "source": [
    "print(a+b)"
   ]
  },
  {
   "cell_type": "code",
   "execution_count": 16,
   "id": "c3af2c29-68ab-4be2-afe1-b7c6b75d67c1",
   "metadata": {},
   "outputs": [
    {
     "ename": "TypeError",
     "evalue": "can't multiply sequence by non-int of type 'list'",
     "output_type": "error",
     "traceback": [
      "\u001b[1;31m---------------------------------------------------------------------------\u001b[0m",
      "\u001b[1;31mTypeError\u001b[0m                                 Traceback (most recent call last)",
      "Cell \u001b[1;32mIn[16], line 1\u001b[0m\n\u001b[1;32m----> 1\u001b[0m \u001b[38;5;28mprint\u001b[39m(a\u001b[38;5;241m*\u001b[39mb)\n",
      "\u001b[1;31mTypeError\u001b[0m: can't multiply sequence by non-int of type 'list'"
     ]
    }
   ],
   "source": [
    "print(a*b)"
   ]
  },
  {
   "cell_type": "code",
   "execution_count": null,
   "id": "4b1bab7f-6d18-4f1b-8c92-39c93c153a6e",
   "metadata": {},
   "outputs": [],
   "source": []
  }
 ],
 "metadata": {
  "kernelspec": {
   "display_name": "Python 3 (ipykernel)",
   "language": "python",
   "name": "python3"
  },
  "language_info": {
   "codemirror_mode": {
    "name": "ipython",
    "version": 3
   },
   "file_extension": ".py",
   "mimetype": "text/x-python",
   "name": "python",
   "nbconvert_exporter": "python",
   "pygments_lexer": "ipython3",
   "version": "3.11.7"
  }
 },
 "nbformat": 4,
 "nbformat_minor": 5
}
