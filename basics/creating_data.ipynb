{
 "cells": [
  {
   "cell_type": "code",
   "execution_count": 1,
   "id": "14a971ce-9c88-4391-b749-e1ce0d5a4388",
   "metadata": {},
   "outputs": [],
   "source": [
    "jedi= \"Luke Skywalker\""
   ]
  },
  {
   "cell_type": "code",
   "execution_count": 3,
   "id": "44ac7c34-db5a-452d-8157-6a848f50e963",
   "metadata": {},
   "outputs": [
    {
     "name": "stdout",
     "output_type": "stream",
     "text": [
      "Luke Skywalker\n"
     ]
    }
   ],
   "source": [
    "print(jedi)"
   ]
  },
  {
   "cell_type": "code",
   "execution_count": 5,
   "id": "1bba34e3-7d42-40bb-80e0-fddfbe7a55d3",
   "metadata": {},
   "outputs": [],
   "source": [
    "price_apple = 1.5"
   ]
  },
  {
   "cell_type": "code",
   "execution_count": 31,
   "id": "b85dfceb-014d-4959-b84b-b8c4728f7a2b",
   "metadata": {},
   "outputs": [],
   "source": [
    "parking_fees = 0.5\n",
    "number_of_apples = 10\n",
    "total_cost = number_of_apples * price_apple"
   ]
  },
  {
   "cell_type": "code",
   "execution_count": 9,
   "id": "3bd28378-982c-462e-9ef0-bcb0feb9b909",
   "metadata": {},
   "outputs": [
    {
     "name": "stdout",
     "output_type": "stream",
     "text": [
      "0.5\n"
     ]
    }
   ],
   "source": [
    "print(parking_fees)\n"
   ]
  },
  {
   "cell_type": "code",
   "execution_count": 33,
   "id": "61966407-a023-4524-a323-590841feea60",
   "metadata": {},
   "outputs": [
    {
     "name": "stdout",
     "output_type": "stream",
     "text": [
      "15.0\n"
     ]
    }
   ],
   "source": [
    "print(total_cost)"
   ]
  },
  {
   "cell_type": "code",
   "execution_count": null,
   "id": "0bba8d9f-7f83-46a8-850d-21670f9880a8",
   "metadata": {},
   "outputs": [],
   "source": []
  }
 ],
 "metadata": {
  "kernelspec": {
   "display_name": "Python 3 (ipykernel)",
   "language": "python",
   "name": "python3"
  },
  "language_info": {
   "codemirror_mode": {
    "name": "ipython",
    "version": 3
   },
   "file_extension": ".py",
   "mimetype": "text/x-python",
   "name": "python",
   "nbconvert_exporter": "python",
   "pygments_lexer": "ipython3",
   "version": "3.11.7"
  }
 },
 "nbformat": 4,
 "nbformat_minor": 5
}
