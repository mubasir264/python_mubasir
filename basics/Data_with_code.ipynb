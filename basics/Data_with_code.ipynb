{
 "cells": [
  {
   "cell_type": "code",
   "execution_count": 36,
   "id": "c764b02d-3237-46a5-a919-d018cfc90b8e",
   "metadata": {},
   "outputs": [],
   "source": [
    "jedi = \"Luke skywalker\""
   ]
  },
  {
   "cell_type": "code",
   "execution_count": 38,
   "id": "2b60a309-497f-41e1-a112-4e26e6e13bca",
   "metadata": {},
   "outputs": [
    {
     "name": "stdout",
     "output_type": "stream",
     "text": [
      "Luke skywalker\n"
     ]
    }
   ],
   "source": [
    "print(jedi)"
   ]
  },
  {
   "cell_type": "code",
   "execution_count": 40,
   "id": "a9e816df-7ed1-4aca-a8ee-530ee2df9c39",
   "metadata": {},
   "outputs": [],
   "source": [
    "price_apple = 1.5\n",
    "\n",
    "number_of_apples = 10"
   ]
  },
  {
   "cell_type": "code",
   "execution_count": 42,
   "id": "554d3fb8-2ef4-4873-802d-8d8ba9726bfd",
   "metadata": {},
   "outputs": [],
   "source": [
    "parking_fees = 0.5"
   ]
  },
  {
   "cell_type": "code",
   "execution_count": 44,
   "id": "04e383d7-005d-4695-be2c-d7b8a71c308d",
   "metadata": {},
   "outputs": [],
   "source": [
    "total = (price_apple * number_of_apples) + parking_fees"
   ]
  },
  {
   "cell_type": "code",
   "execution_count": 46,
   "id": "1f5095ca-9b24-41f0-a0db-5d2e3a2e0433",
   "metadata": {},
   "outputs": [
    {
     "name": "stdout",
     "output_type": "stream",
     "text": [
      "15.5\n"
     ]
    }
   ],
   "source": [
    "print(total)"
   ]
  },
  {
   "cell_type": "code",
   "execution_count": 48,
   "id": "72e5c0f1-b237-4908-8a83-7f3740d38745",
   "metadata": {},
   "outputs": [],
   "source": [
    "price_plum = 0.25\n",
    "\n",
    "number_of_plums = 12"
   ]
  },
  {
   "cell_type": "code",
   "execution_count": 50,
   "id": "e97d3680-1185-4809-a962-7241e178fd4a",
   "metadata": {},
   "outputs": [],
   "source": [
    "total = (price_apple * number_of_apples) + (price_plum * number_of_plums) + parking_fees"
   ]
  },
  {
   "cell_type": "code",
   "execution_count": 52,
   "id": "3bf1fd79-a659-4167-820f-215257c25340",
   "metadata": {},
   "outputs": [
    {
     "name": "stdout",
     "output_type": "stream",
     "text": [
      "18.5\n"
     ]
    }
   ],
   "source": [
    "print(total)"
   ]
  },
  {
   "cell_type": "code",
   "execution_count": 54,
   "id": "fa082416-431b-40fb-be3e-f4c9d2051a8e",
   "metadata": {},
   "outputs": [
    {
     "name": "stdout",
     "output_type": "stream",
     "text": [
      "9.25\n"
     ]
    }
   ],
   "source": [
    "print(total/2)"
   ]
  },
  {
   "cell_type": "code",
   "execution_count": 56,
   "id": "4c4e7563-46c5-49e6-880c-06931d9925cb",
   "metadata": {},
   "outputs": [
    {
     "name": "stdout",
     "output_type": "stream",
     "text": [
      "each of you have to pay 9.25 dollars\n"
     ]
    }
   ],
   "source": [
    "print(\"each of you have to pay\", total/2, \"dollars\")"
   ]
  },
  {
   "cell_type": "code",
   "execution_count": 58,
   "id": "56988777-b4c8-4f09-ad5d-c5a0aac73615",
   "metadata": {},
   "outputs": [
    {
     "name": "stdout",
     "output_type": "stream",
     "text": [
      "each one of you have to pay 9.25 dollars\n"
     ]
    }
   ],
   "source": [
    "print(f\"each one of you have to pay {total/2} dollars\")"
   ]
  },
  {
   "cell_type": "code",
   "execution_count": null,
   "id": "174233e4-8ae4-4deb-bed1-6dee686c64b0",
   "metadata": {},
   "outputs": [],
   "source": []
  }
 ],
 "metadata": {
  "kernelspec": {
   "display_name": "Python 3 (ipykernel)",
   "language": "python",
   "name": "python3"
  },
  "language_info": {
   "codemirror_mode": {
    "name": "ipython",
    "version": 3
   },
   "file_extension": ".py",
   "mimetype": "text/x-python",
   "name": "python",
   "nbconvert_exporter": "python",
   "pygments_lexer": "ipython3",
   "version": "3.11.7"
  }
 },
 "nbformat": 4,
 "nbformat_minor": 5
}
