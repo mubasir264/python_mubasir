{
 "cells": [
  {
   "cell_type": "code",
   "execution_count": 2,
   "id": "c1b6d58a-8838-4cae-b8d0-90a342e19689",
   "metadata": {},
   "outputs": [
    {
     "name": "stdout",
     "output_type": "stream",
     "text": [
      "the value of data = 1\n",
      "the value of data = 2\n",
      "the value of data = 3\n",
      "the value of data = 4\n"
     ]
    }
   ],
   "source": [
    "data = 1\n",
    "\n",
    "while data < 5 :\n",
    "    print(\"the value of data =\", data)\n",
    "    data = data + 1"
   ]
  },
  {
   "cell_type": "code",
   "execution_count": 4,
   "id": "e230cff5-a74a-4f3c-9b6a-4d901cf47440",
   "metadata": {},
   "outputs": [],
   "source": [
    "# list\n",
    "fruit = ['apple', 'orange', 'kiwis', 'plums']\n",
    "\n",
    "# tuple\n",
    "numbers = (25, 367, 184, 60, 359, 512, 72, 36, 755, 402, 274, 803)\n",
    "\n",
    "#string\n",
    "place = \"earth\"\n",
    "\n",
    "# dictionary\n",
    "avangers = {'ironman':'suit', 'captain':'shield', 'black widow':'sheer elegance', 'hulk':'smash'}"
   ]
  },
  {
   "cell_type": "code",
   "execution_count": 8,
   "id": "4e777045-2f3c-43ad-a6c4-3891f6c7ac4d",
   "metadata": {},
   "outputs": [
    {
     "name": "stdout",
     "output_type": "stream",
     "text": [
      "apple\n",
      "orange\n",
      "kiwis\n",
      "plums\n"
     ]
    }
   ],
   "source": [
    "for x in fruit:\n",
    "    print(x)"
   ]
  },
  {
   "cell_type": "code",
   "execution_count": 12,
   "id": "1cac6c03-e4e6-4864-aa52-2d11c1eae47e",
   "metadata": {},
   "outputs": [],
   "source": [
    "list_val = []\n",
    "\n",
    "for val in numbers:\n",
    "    if val >=100 and val < 500:\n",
    "        list_val.append(val)"
   ]
  },
  {
   "cell_type": "code",
   "execution_count": 14,
   "id": "d34bc602-5f94-4452-9ea7-6ecf233879c4",
   "metadata": {},
   "outputs": [
    {
     "name": "stdout",
     "output_type": "stream",
     "text": [
      "[367, 184, 359, 402, 274]\n"
     ]
    }
   ],
   "source": [
    "print(list_val)"
   ]
  },
  {
   "cell_type": "code",
   "execution_count": 16,
   "id": "5a841ea3-820f-4f53-bc38-0724a65e63c2",
   "metadata": {},
   "outputs": [
    {
     "name": "stdout",
     "output_type": "stream",
     "text": [
      "val = e\n",
      "val = a\n",
      "val = r\n",
      "val = t\n",
      "val = h\n"
     ]
    }
   ],
   "source": [
    "for val in place:\n",
    "    print(\"val =\", val)"
   ]
  },
  {
   "cell_type": "code",
   "execution_count": 18,
   "id": "490b884d-25f6-4797-9234-c180ff3b2392",
   "metadata": {},
   "outputs": [
    {
     "name": "stdout",
     "output_type": "stream",
     "text": [
      "x = ironman\n",
      "x = captain\n",
      "x = black widow\n",
      "x = hulk\n"
     ]
    }
   ],
   "source": [
    "for x in avangers:\n",
    "    print(\"x =\", x)"
   ]
  },
  {
   "cell_type": "code",
   "execution_count": 22,
   "id": "43736a3d-2d27-48cc-ae63-660279078f96",
   "metadata": {},
   "outputs": [
    {
     "name": "stdout",
     "output_type": "stream",
     "text": [
      "x = suit\n",
      "x = shield\n",
      "x = sheer elegance\n",
      "x = smash\n"
     ]
    }
   ],
   "source": [
    "for x in avangers.values():\n",
    "    print(\"x =\", x)"
   ]
  },
  {
   "cell_type": "code",
   "execution_count": 24,
   "id": "b2c6cd97-7de5-41b4-bbe1-548094251958",
   "metadata": {},
   "outputs": [
    {
     "name": "stdout",
     "output_type": "stream",
     "text": [
      "k = ironman\n",
      "v = suit\n",
      "-------\n",
      "k = captain\n",
      "v = shield\n",
      "-------\n",
      "k = black widow\n",
      "v = sheer elegance\n",
      "-------\n",
      "k = hulk\n",
      "v = smash\n",
      "-------\n"
     ]
    }
   ],
   "source": [
    "for k, v in avangers.items():\n",
    "    print('k =', k)\n",
    "    print(\"v =\", v)\n",
    "    print(\"-------\")"
   ]
  },
  {
   "cell_type": "code",
   "execution_count": null,
   "id": "ce8a3568-741f-4cb9-b0a6-da87209c03f0",
   "metadata": {},
   "outputs": [],
   "source": []
  }
 ],
 "metadata": {
  "kernelspec": {
   "display_name": "Python 3 (ipykernel)",
   "language": "python",
   "name": "python3"
  },
  "language_info": {
   "codemirror_mode": {
    "name": "ipython",
    "version": 3
   },
   "file_extension": ".py",
   "mimetype": "text/x-python",
   "name": "python",
   "nbconvert_exporter": "python",
   "pygments_lexer": "ipython3",
   "version": "3.11.7"
  }
 },
 "nbformat": 4,
 "nbformat_minor": 5
}
