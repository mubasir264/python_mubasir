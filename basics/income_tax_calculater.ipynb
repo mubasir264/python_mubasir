{
 "cells": [
  {
   "cell_type": "code",
   "execution_count": 2,
   "id": "b771f25a-c0a2-440c-a7f3-13c0f05cb305",
   "metadata": {},
   "outputs": [],
   "source": [
    "income = 12000"
   ]
  },
  {
   "cell_type": "code",
   "execution_count": 25,
   "id": "3bfc001d-3cef-452b-a018-704de5a18107",
   "metadata": {},
   "outputs": [],
   "source": [
    "if income <= 0:\n",
    " tax_payable = 0\n",
    "elif income > 0 and income < 9950:\n",
    " tax_payable= income * 0.10\n",
    "elif income >= 9950 and income < 40525:\n",
    " tax_payable= income * 0.12\n",
    "elif income >= 40525 and income < 86375:\n",
    " tax_payable= income * 0.22\n",
    "elif income >= 86375 and income < 164925:\n",
    " tax_payable= income * 0.24\n",
    "elif income >= 164925 and income < 209425:\n",
    " tax_payable= income * 0.32\n",
    "elif income > 209425 and income < 523600:\n",
    " tax_payable= income * 0.35\n",
    "elif income >= 523600:\n",
    " tax_payable= income * 0.37"
   ]
  },
  {
   "cell_type": "code",
   "execution_count": 27,
   "id": "b21ca0ff-54a4-4ae8-815b-accbbddeda8a",
   "metadata": {},
   "outputs": [
    {
     "name": "stdout",
     "output_type": "stream",
     "text": [
      "12000\n"
     ]
    }
   ],
   "source": [
    "print(income)"
   ]
  },
  {
   "cell_type": "code",
   "execution_count": 29,
   "id": "184bb2a7-d929-4047-95cf-14ffe662f89d",
   "metadata": {},
   "outputs": [
    {
     "name": "stdout",
     "output_type": "stream",
     "text": [
      "1440.0\n"
     ]
    }
   ],
   "source": [
    "print(tax_payable)"
   ]
  },
  {
   "cell_type": "code",
   "execution_count": 41,
   "id": "35e5e5a3-2b03-426a-953c-5e9dd4fa8476",
   "metadata": {},
   "outputs": [
    {
     "name": "stdout",
     "output_type": "stream",
     "text": [
      "\n",
      "something is wrong, you have not enter the correct number\n",
      "\n"
     ]
    },
    {
     "ename": "SyntaxError",
     "evalue": "'return' outside function (2992184396.py, line 2)",
     "output_type": "error",
     "traceback": [
      "\u001b[1;36m  Cell \u001b[1;32mIn[41], line 2\u001b[1;36m\u001b[0m\n\u001b[1;33m    return\u001b[0m\n\u001b[1;37m    ^\u001b[0m\n\u001b[1;31mSyntaxError\u001b[0m\u001b[1;31m:\u001b[0m 'return' outside function\n"
     ]
    }
   ],
   "source": [
    "print(\"\\nsomething is wrong, you have not enter the correct number\\n\")\n",
    "return\n",
    "print(f\"\\nyou are liable to pay an amount of ${taxexs} in taxes\\n\")"
   ]
  },
  {
   "cell_type": "code",
   "execution_count": null,
   "id": "207ec2f8-4c70-498e-93ed-d0227980bb3b",
   "metadata": {},
   "outputs": [],
   "source": []
  }
 ],
 "metadata": {
  "kernelspec": {
   "display_name": "Python 3 (ipykernel)",
   "language": "python",
   "name": "python3"
  },
  "language_info": {
   "codemirror_mode": {
    "name": "ipython",
    "version": 3
   },
   "file_extension": ".py",
   "mimetype": "text/x-python",
   "name": "python",
   "nbconvert_exporter": "python",
   "pygments_lexer": "ipython3",
   "version": "3.11.7"
  }
 },
 "nbformat": 4,
 "nbformat_minor": 5
}
