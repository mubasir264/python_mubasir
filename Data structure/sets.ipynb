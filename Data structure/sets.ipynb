{
 "cells": [
  {
   "cell_type": "code",
   "execution_count": 1,
   "id": "a126311f-673b-450f-b3e3-e26199e032ab",
   "metadata": {},
   "outputs": [],
   "source": [
    "set_a = {'apple', 'orange', 'banana', 'apple', 'apricot', 'banana'}"
   ]
  },
  {
   "cell_type": "code",
   "execution_count": 2,
   "id": "96cd613e-2afb-41b0-a3f2-00d8a88e8342",
   "metadata": {},
   "outputs": [
    {
     "name": "stdout",
     "output_type": "stream",
     "text": [
      "<class 'set'>\n"
     ]
    }
   ],
   "source": [
    "print(type(set_a))"
   ]
  },
  {
   "cell_type": "code",
   "execution_count": 3,
   "id": "448bc5a0-7633-456d-95b4-1730bdab0f08",
   "metadata": {},
   "outputs": [
    {
     "name": "stdout",
     "output_type": "stream",
     "text": [
      "{'apricot', 'orange', 'banana', 'apple'}\n"
     ]
    }
   ],
   "source": [
    "print(set_a)"
   ]
  },
  {
   "cell_type": "code",
   "execution_count": 4,
   "id": "3de03b82-1e56-47d4-a408-01753f2c5d8d",
   "metadata": {},
   "outputs": [],
   "source": [
    "#only unique alaments are allowed in a set\n",
    "#set are unordered and it does not necessarily maintain order being provied\n",
    "#No indering and hence no slicing or stepping is allowed in set\n",
    "#mutable member are not allowed in set, for example, list are not allowed in a set, but strings and can be used."
   ]
  },
  {
   "cell_type": "code",
   "execution_count": 5,
   "id": "42062608-ad40-4091-810d-1f3adc6fb9d4",
   "metadata": {},
   "outputs": [],
   "source": [
    "set_b = {'kiwi', 'plum', 'orange', 'avocado'}"
   ]
  },
  {
   "cell_type": "code",
   "execution_count": 6,
   "id": "643d6c5f-d1c9-4e07-92e9-4cca9828a1b3",
   "metadata": {},
   "outputs": [
    {
     "name": "stdout",
     "output_type": "stream",
     "text": [
      "{'avocado', 'orange', 'plum', 'kiwi'}\n"
     ]
    }
   ],
   "source": [
    "print(set_b)"
   ]
  },
  {
   "cell_type": "code",
   "execution_count": 7,
   "id": "da64c086-e5a5-48e4-bca6-8f79169bdec1",
   "metadata": {},
   "outputs": [
    {
     "ename": "TypeError",
     "evalue": "'set' object is not subscriptable",
     "output_type": "error",
     "traceback": [
      "\u001b[1;31m---------------------------------------------------------------------------\u001b[0m",
      "\u001b[1;31mTypeError\u001b[0m                                 Traceback (most recent call last)",
      "Cell \u001b[1;32mIn[7], line 1\u001b[0m\n\u001b[1;32m----> 1\u001b[0m \u001b[38;5;28mprint\u001b[39m(set_b[\u001b[38;5;241m2\u001b[39m])\n",
      "\u001b[1;31mTypeError\u001b[0m: 'set' object is not subscriptable"
     ]
    }
   ],
   "source": [
    "print(set_b[2])"
   ]
  },
  {
   "cell_type": "code",
   "execution_count": 44,
   "id": "91353936-2222-4cf2-9db9-ffc0fcdf9e13",
   "metadata": {},
   "outputs": [
    {
     "name": "stdout",
     "output_type": "stream",
     "text": [
      "{'avocado', 'orange', 'kiwi', 'apricot', 'plum', 'apple', 'banana'}\n"
     ]
    }
   ],
   "source": [
    "# union\n",
    "\n",
    "print(set_a | set_b)"
   ]
  },
  {
   "cell_type": "code",
   "execution_count": 46,
   "id": "8b895abb-808e-4c68-9f5e-14032018684a",
   "metadata": {},
   "outputs": [
    {
     "name": "stdout",
     "output_type": "stream",
     "text": [
      "{'apricot', 'orange', 'banana', 'apple'}\n"
     ]
    }
   ],
   "source": [
    "print(set_a)"
   ]
  },
  {
   "cell_type": "code",
   "execution_count": 48,
   "id": "c8cddb83-75f2-4cde-a96a-979293a16c26",
   "metadata": {},
   "outputs": [
    {
     "name": "stdout",
     "output_type": "stream",
     "text": [
      "{'avocado', 'orange', 'plum', 'kiwi'}\n"
     ]
    }
   ],
   "source": [
    "print(set_b)"
   ]
  },
  {
   "cell_type": "code",
   "execution_count": 50,
   "id": "10b910e8-5313-493d-bdfa-7febdb7b0ba3",
   "metadata": {},
   "outputs": [
    {
     "name": "stdout",
     "output_type": "stream",
     "text": [
      "{'orange'}\n"
     ]
    }
   ],
   "source": [
    "#inetrsection\n",
    "\n",
    "print(set_a & set_b)"
   ]
  },
  {
   "cell_type": "code",
   "execution_count": 52,
   "id": "f6c2cead-6560-4ca8-ac9d-893c6b3c4507",
   "metadata": {},
   "outputs": [
    {
     "name": "stdout",
     "output_type": "stream",
     "text": [
      "{'apricot', 'banana', 'apple'}\n"
     ]
    }
   ],
   "source": [
    "# differance\n",
    "\n",
    "print(set_a - set_b)"
   ]
  },
  {
   "cell_type": "code",
   "execution_count": 54,
   "id": "e9160124-890e-4b86-9c78-018d83d74ec8",
   "metadata": {},
   "outputs": [
    {
     "name": "stdout",
     "output_type": "stream",
     "text": [
      "{'avocado', 'apple', 'kiwi', 'apricot', 'plum', 'banana'}\n"
     ]
    }
   ],
   "source": [
    "print(set_a ^ set_b)"
   ]
  },
  {
   "cell_type": "code",
   "execution_count": 56,
   "id": "a1a5b0f3-b26a-4aac-9823-eeaff2102001",
   "metadata": {},
   "outputs": [],
   "source": [
    "set_a.add('wetermelon')"
   ]
  },
  {
   "cell_type": "code",
   "execution_count": 66,
   "id": "3ec511ae-cbf5-46f7-bf96-d968592ab117",
   "metadata": {},
   "outputs": [
    {
     "name": "stdout",
     "output_type": "stream",
     "text": [
      "{'apricot', 'apple', 'wetermelon', 'banana'}\n"
     ]
    }
   ],
   "source": [
    "print(set_a)"
   ]
  },
  {
   "cell_type": "code",
   "execution_count": 68,
   "id": "7f0fbea6-e06a-4012-9459-ff3bc0d6bf14",
   "metadata": {},
   "outputs": [
    {
     "ename": "KeyError",
     "evalue": "'orange'",
     "output_type": "error",
     "traceback": [
      "\u001b[1;31m---------------------------------------------------------------------------\u001b[0m",
      "\u001b[1;31mKeyError\u001b[0m                                  Traceback (most recent call last)",
      "Cell \u001b[1;32mIn[68], line 1\u001b[0m\n\u001b[1;32m----> 1\u001b[0m set_a\u001b[38;5;241m.\u001b[39mremove(\u001b[38;5;124m'\u001b[39m\u001b[38;5;124morange\u001b[39m\u001b[38;5;124m'\u001b[39m)\n",
      "\u001b[1;31mKeyError\u001b[0m: 'orange'"
     ]
    }
   ],
   "source": [
    "set_a.remove('orange')"
   ]
  },
  {
   "cell_type": "code",
   "execution_count": 62,
   "id": "5a124c72-e53c-4722-9c99-f59ded43f7ad",
   "metadata": {},
   "outputs": [
    {
     "name": "stdout",
     "output_type": "stream",
     "text": [
      "{'apricot', 'apple', 'wetermelon', 'banana'}\n"
     ]
    }
   ],
   "source": [
    "print(set_a)"
   ]
  },
  {
   "cell_type": "code",
   "execution_count": null,
   "id": "62238024-3780-4264-b17a-3c6cbbd98bbd",
   "metadata": {},
   "outputs": [],
   "source": []
  }
 ],
 "metadata": {
  "kernelspec": {
   "display_name": "Python 3 (ipykernel)",
   "language": "python",
   "name": "python3"
  },
  "language_info": {
   "codemirror_mode": {
    "name": "ipython",
    "version": 3
   },
   "file_extension": ".py",
   "mimetype": "text/x-python",
   "name": "python",
   "nbconvert_exporter": "python",
   "pygments_lexer": "ipython3",
   "version": "3.11.7"
  }
 },
 "nbformat": 4,
 "nbformat_minor": 5
}
