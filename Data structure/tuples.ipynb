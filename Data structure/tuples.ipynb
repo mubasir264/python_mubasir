{
 "cells": [
  {
   "cell_type": "code",
   "execution_count": 1,
   "id": "5065d482-7838-4799-8cec-bf91e26bee0f",
   "metadata": {},
   "outputs": [],
   "source": [
    "animals = ('dog', 'cow', 'rabbit', 'hare')"
   ]
  },
  {
   "cell_type": "code",
   "execution_count": 3,
   "id": "cfd7a55f-a78c-45be-a9e5-9c91363f5e4d",
   "metadata": {},
   "outputs": [],
   "source": [
    "tupa = (23, 56, \"hi\", \"hello\")"
   ]
  },
  {
   "cell_type": "code",
   "execution_count": 5,
   "id": "bbfb39f7-7501-4c75-8042-202eee03093e",
   "metadata": {},
   "outputs": [],
   "source": [
    "tupb = (100, 34, ['a', 'e', 'i'], (10,23), tupa)"
   ]
  },
  {
   "cell_type": "code",
   "execution_count": 7,
   "id": "be2750f7-881c-40dd-ae00-56ce6fefadc8",
   "metadata": {},
   "outputs": [
    {
     "name": "stdout",
     "output_type": "stream",
     "text": [
      "(100, 34, ['a', 'e', 'i'], (10, 23), (23, 56, 'hi', 'hello'))\n"
     ]
    }
   ],
   "source": [
    "print(tupb)"
   ]
  },
  {
   "cell_type": "code",
   "execution_count": 11,
   "id": "76fa50a4-4d2b-456e-84b5-3aa6f3920d44",
   "metadata": {},
   "outputs": [
    {
     "name": "stdout",
     "output_type": "stream",
     "text": [
      "(23, 56, 'hi', 'hello')\n"
     ]
    }
   ],
   "source": [
    "print(tupa)"
   ]
  },
  {
   "cell_type": "code",
   "execution_count": 15,
   "id": "f059e99b-ea5e-45a4-872a-584f3c92a31e",
   "metadata": {},
   "outputs": [
    {
     "name": "stdout",
     "output_type": "stream",
     "text": [
      "23\n"
     ]
    }
   ],
   "source": [
    "print(tupa[0])"
   ]
  },
  {
   "cell_type": "code",
   "execution_count": 19,
   "id": "d8a77961-5ec3-4a1d-8576-d8abd6d461f0",
   "metadata": {},
   "outputs": [
    {
     "name": "stdout",
     "output_type": "stream",
     "text": [
      "hello\n"
     ]
    }
   ],
   "source": [
    "print(tupa[-1])"
   ]
  },
  {
   "cell_type": "code",
   "execution_count": 21,
   "id": "5b4c28c8-1f21-470c-a9f3-9938e0490f93",
   "metadata": {},
   "outputs": [
    {
     "name": "stdout",
     "output_type": "stream",
     "text": [
      "(56, 'hi')\n"
     ]
    }
   ],
   "source": [
    "print(tupa[1:3])"
   ]
  },
  {
   "cell_type": "code",
   "execution_count": 23,
   "id": "0f566cd6-e880-48e1-812e-2c21b3dd3db2",
   "metadata": {},
   "outputs": [
    {
     "ename": "TypeError",
     "evalue": "'tuple' object does not support item assignment",
     "output_type": "error",
     "traceback": [
      "\u001b[1;31m---------------------------------------------------------------------------\u001b[0m",
      "\u001b[1;31mTypeError\u001b[0m                                 Traceback (most recent call last)",
      "Cell \u001b[1;32mIn[23], line 1\u001b[0m\n\u001b[1;32m----> 1\u001b[0m tupa[\u001b[38;5;241m0\u001b[39m] \u001b[38;5;241m=\u001b[39m \u001b[38;5;241m100\u001b[39m\n",
      "\u001b[1;31mTypeError\u001b[0m: 'tuple' object does not support item assignment"
     ]
    }
   ],
   "source": [
    "tupa[0] = 100"
   ]
  },
  {
   "cell_type": "code",
   "execution_count": 25,
   "id": "a9d1d75a-6192-4724-8238-bd37f42ca5a0",
   "metadata": {},
   "outputs": [],
   "source": [
    "tupb[2].append('o')"
   ]
  },
  {
   "cell_type": "code",
   "execution_count": 27,
   "id": "e5768b06-4aa4-4cf0-b7bf-a8120da27568",
   "metadata": {},
   "outputs": [
    {
     "name": "stdout",
     "output_type": "stream",
     "text": [
      "(100, 34, ['a', 'e', 'i', 'o'], (10, 23), (23, 56, 'hi', 'hello'))\n"
     ]
    }
   ],
   "source": [
    "print(tupb)"
   ]
  },
  {
   "cell_type": "code",
   "execution_count": 31,
   "id": "06df17de-08ec-40fe-a5e9-85ad75071dde",
   "metadata": {},
   "outputs": [
    {
     "data": {
      "text/plain": [
       "1"
      ]
     },
     "execution_count": 31,
     "metadata": {},
     "output_type": "execute_result"
    }
   ],
   "source": [
    "tupa.count('hi')"
   ]
  },
  {
   "cell_type": "code",
   "execution_count": 33,
   "id": "5a249b16-8378-43e8-95cb-4e822a56b29e",
   "metadata": {},
   "outputs": [
    {
     "data": {
      "text/plain": [
       "3"
      ]
     },
     "execution_count": 33,
     "metadata": {},
     "output_type": "execute_result"
    }
   ],
   "source": [
    "tupa.index('hello')"
   ]
  },
  {
   "cell_type": "code",
   "execution_count": null,
   "id": "36046f5b-bc19-4c05-b6f7-b956169a65ba",
   "metadata": {},
   "outputs": [],
   "source": []
  }
 ],
 "metadata": {
  "kernelspec": {
   "display_name": "Python 3 (ipykernel)",
   "language": "python",
   "name": "python3"
  },
  "language_info": {
   "codemirror_mode": {
    "name": "ipython",
    "version": 3
   },
   "file_extension": ".py",
   "mimetype": "text/x-python",
   "name": "python",
   "nbconvert_exporter": "python",
   "pygments_lexer": "ipython3",
   "version": "3.11.7"
  }
 },
 "nbformat": 4,
 "nbformat_minor": 5
}
