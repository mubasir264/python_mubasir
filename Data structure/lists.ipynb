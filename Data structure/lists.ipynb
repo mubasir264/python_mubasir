{
 "cells": [
  {
   "cell_type": "code",
   "execution_count": 1,
   "id": "1376b922-7bac-4681-9459-6b5cb5beef6c",
   "metadata": {},
   "outputs": [],
   "source": [
    "lista = []"
   ]
  },
  {
   "cell_type": "code",
   "execution_count": 3,
   "id": "cabb8542-456d-4efc-bb3a-672359f622bf",
   "metadata": {},
   "outputs": [],
   "source": [
    "listb = [20,20, 30, 40]"
   ]
  },
  {
   "cell_type": "code",
   "execution_count": 5,
   "id": "6087c3aa-0b19-477a-9023-a05b211130b7",
   "metadata": {},
   "outputs": [],
   "source": [
    "listc = [10, \"hi\", 34.57]"
   ]
  },
  {
   "cell_type": "code",
   "execution_count": 7,
   "id": "a84dcfeb-a4e8-49fe-8ecd-f3602fd389f1",
   "metadata": {},
   "outputs": [],
   "source": [
    "# 0, 1, 2, 3, 4"
   ]
  },
  {
   "cell_type": "code",
   "execution_count": 9,
   "id": "0b5b21a6-2335-4110-ba22-439ac5958930",
   "metadata": {},
   "outputs": [],
   "source": [
    "listd = ['h', 'e', 'l', 'l', 'o']"
   ]
  },
  {
   "cell_type": "code",
   "execution_count": 11,
   "id": "c9cdbcaf-c229-48fa-8777-52385e4ae3cd",
   "metadata": {},
   "outputs": [
    {
     "name": "stdout",
     "output_type": "stream",
     "text": [
      "h\n"
     ]
    }
   ],
   "source": [
    "print(listd[0])"
   ]
  },
  {
   "cell_type": "code",
   "execution_count": 13,
   "id": "24fb88e5-e659-47f2-90e9-419643fab36c",
   "metadata": {},
   "outputs": [
    {
     "name": "stdout",
     "output_type": "stream",
     "text": [
      "l\n"
     ]
    }
   ],
   "source": [
    "print(listd[2])"
   ]
  },
  {
   "cell_type": "code",
   "execution_count": 15,
   "id": "38fdf471-a5de-47db-af74-f081de16ddd1",
   "metadata": {},
   "outputs": [
    {
     "name": "stdout",
     "output_type": "stream",
     "text": [
      "o\n"
     ]
    }
   ],
   "source": [
    "print(listd[-1])"
   ]
  },
  {
   "cell_type": "code",
   "execution_count": 19,
   "id": "16707e1e-810a-4f02-8c3c-10826b3df4d2",
   "metadata": {},
   "outputs": [
    {
     "name": "stdout",
     "output_type": "stream",
     "text": [
      "['h', 'e', 'l', 'l', 'o']\n"
     ]
    }
   ],
   "source": [
    "print(listd)"
   ]
  },
  {
   "cell_type": "code",
   "execution_count": 23,
   "id": "5b0244e3-a61c-4331-aec0-dd8acf371845",
   "metadata": {},
   "outputs": [
    {
     "name": "stdout",
     "output_type": "stream",
     "text": [
      "['e', 'l']\n"
     ]
    }
   ],
   "source": [
    "print(listd[1:3])"
   ]
  },
  {
   "cell_type": "code",
   "execution_count": 25,
   "id": "d4349cfd-a99f-4a91-bac4-2e5c5faedb06",
   "metadata": {},
   "outputs": [
    {
     "name": "stdout",
     "output_type": "stream",
     "text": [
      "['l', 'l', 'o']\n"
     ]
    }
   ],
   "source": [
    "print(listd[2:10])"
   ]
  },
  {
   "cell_type": "code",
   "execution_count": 27,
   "id": "93a642ce-211c-4727-9db6-7d6eec2a3359",
   "metadata": {},
   "outputs": [
    {
     "name": "stdout",
     "output_type": "stream",
     "text": [
      "['h', 'e', 'l']\n"
     ]
    }
   ],
   "source": [
    "print(listd[:3])"
   ]
  },
  {
   "cell_type": "code",
   "execution_count": 29,
   "id": "af65a6c7-32d0-4503-abc3-ce6068fda218",
   "metadata": {},
   "outputs": [
    {
     "name": "stdout",
     "output_type": "stream",
     "text": [
      "['e', 'l', 'l', 'o']\n"
     ]
    }
   ],
   "source": [
    "print(listd[1:])"
   ]
  },
  {
   "cell_type": "code",
   "execution_count": 33,
   "id": "28a5003c-0679-48e4-9044-aaa089d7a851",
   "metadata": {},
   "outputs": [
    {
     "name": "stdout",
     "output_type": "stream",
     "text": [
      "['h', 'e', 'l', 'l', 'o']\n"
     ]
    }
   ],
   "source": [
    "print(listd[:])"
   ]
  },
  {
   "cell_type": "code",
   "execution_count": null,
   "id": "829d6b86-c5ed-47d6-bba3-58bbc5778094",
   "metadata": {},
   "outputs": [],
   "source": []
  }
 ],
 "metadata": {
  "kernelspec": {
   "display_name": "Python 3 (ipykernel)",
   "language": "python",
   "name": "python3"
  },
  "language_info": {
   "codemirror_mode": {
    "name": "ipython",
    "version": 3
   },
   "file_extension": ".py",
   "mimetype": "text/x-python",
   "name": "python",
   "nbconvert_exporter": "python",
   "pygments_lexer": "ipython3",
   "version": "3.11.7"
  }
 },
 "nbformat": 4,
 "nbformat_minor": 5
}
