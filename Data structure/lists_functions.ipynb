{
 "cells": [
  {
   "cell_type": "code",
   "execution_count": 1,
   "id": "411f2184-39ec-4638-9ec4-1632782be6b0",
   "metadata": {},
   "outputs": [],
   "source": [
    "# append"
   ]
  },
  {
   "cell_type": "code",
   "execution_count": 2,
   "id": "be871766-1acf-405c-b8b7-c323c1e33bf1",
   "metadata": {},
   "outputs": [],
   "source": [
    "animals = ['cat', 'dog', 'rabbit']"
   ]
  },
  {
   "cell_type": "code",
   "execution_count": 3,
   "id": "d6aceb83-6988-4e02-9bb8-aaf61f3c9fdc",
   "metadata": {},
   "outputs": [],
   "source": [
    "animals.append('cow')"
   ]
  },
  {
   "cell_type": "code",
   "execution_count": 4,
   "id": "fdf050f2-3c29-4e21-a0ed-4e7c6bb01092",
   "metadata": {},
   "outputs": [
    {
     "name": "stdout",
     "output_type": "stream",
     "text": [
      "['cat', 'dog', 'rabbit', 'cow']\n"
     ]
    }
   ],
   "source": [
    "print(animals)"
   ]
  },
  {
   "cell_type": "code",
   "execution_count": 5,
   "id": "19dc52f3-e71c-4ef2-a111-107c7f72d65f",
   "metadata": {},
   "outputs": [],
   "source": [
    "wild_animals = ['tiger','fox']"
   ]
  },
  {
   "cell_type": "code",
   "execution_count": 6,
   "id": "690517c0-efc6-47e7-a8db-ea4e05b991fa",
   "metadata": {},
   "outputs": [],
   "source": [
    "animals.append(wild_animals)"
   ]
  },
  {
   "cell_type": "code",
   "execution_count": 7,
   "id": "1a09374c-8f2c-4409-96e4-7392f96a15d6",
   "metadata": {},
   "outputs": [
    {
     "name": "stdout",
     "output_type": "stream",
     "text": [
      "['cat', 'dog', 'rabbit', 'cow', ['tiger', 'fox']]\n"
     ]
    }
   ],
   "source": [
    "print(animals)"
   ]
  },
  {
   "cell_type": "code",
   "execution_count": 8,
   "id": "d6d9e735-1bf9-4191-ae8c-3411c69bf49d",
   "metadata": {},
   "outputs": [],
   "source": [
    "animals = ['cat', 'dog', 'rabbit']"
   ]
  },
  {
   "cell_type": "code",
   "execution_count": 9,
   "id": "e1d3831e-128c-41f0-a14c-51d1fb70fe1a",
   "metadata": {},
   "outputs": [
    {
     "name": "stdout",
     "output_type": "stream",
     "text": [
      "['cat', 'dog', 'rabbit']\n"
     ]
    }
   ],
   "source": [
    "print(animals)"
   ]
  },
  {
   "cell_type": "code",
   "execution_count": 10,
   "id": "6f54c9c8-ed27-4d3b-bc34-16730586bcf8",
   "metadata": {},
   "outputs": [],
   "source": [
    "animals.extend(wild_animals)"
   ]
  },
  {
   "cell_type": "code",
   "execution_count": 11,
   "id": "36074259-3be0-4c84-9a22-8bdf14e6d616",
   "metadata": {},
   "outputs": [
    {
     "name": "stdout",
     "output_type": "stream",
     "text": [
      "['cat', 'dog', 'rabbit', 'tiger', 'fox']\n"
     ]
    }
   ],
   "source": [
    "print(animals)"
   ]
  },
  {
   "cell_type": "code",
   "execution_count": 12,
   "id": "11a82924-6a8b-479e-9b48-a21ecf2aa55f",
   "metadata": {},
   "outputs": [],
   "source": [
    "# insert"
   ]
  },
  {
   "cell_type": "code",
   "execution_count": 13,
   "id": "fda16aa5-0144-448c-9cd4-f0b9de82740a",
   "metadata": {},
   "outputs": [],
   "source": [
    "animals.insert(2, 'hare')"
   ]
  },
  {
   "cell_type": "code",
   "execution_count": 14,
   "id": "c8c21200-b8ad-4ced-8765-2dcfceb3345a",
   "metadata": {},
   "outputs": [
    {
     "name": "stdout",
     "output_type": "stream",
     "text": [
      "['cat', 'dog', 'hare', 'rabbit', 'tiger', 'fox']\n"
     ]
    }
   ],
   "source": [
    "print(animals)"
   ]
  },
  {
   "cell_type": "code",
   "execution_count": 15,
   "id": "b0c463e0-744a-47d3-9fd5-d47b45e6efc2",
   "metadata": {},
   "outputs": [],
   "source": [
    "#remove"
   ]
  },
  {
   "cell_type": "code",
   "execution_count": 16,
   "id": "890134cc-59ce-4ceb-b0bf-597183dd8938",
   "metadata": {},
   "outputs": [],
   "source": [
    "animals.remove('rabbit')"
   ]
  },
  {
   "cell_type": "code",
   "execution_count": 17,
   "id": "91b74d13-ac27-4a3e-9f35-a48171835242",
   "metadata": {},
   "outputs": [
    {
     "name": "stdout",
     "output_type": "stream",
     "text": [
      "['cat', 'dog', 'hare', 'tiger', 'fox']\n"
     ]
    }
   ],
   "source": [
    "print(animals)"
   ]
  },
  {
   "cell_type": "code",
   "execution_count": 18,
   "id": "82df2b97-d4e4-43fe-9474-1b3f3335e77c",
   "metadata": {},
   "outputs": [],
   "source": [
    "#pop"
   ]
  },
  {
   "cell_type": "code",
   "execution_count": 19,
   "id": "e840face-d7fe-4a12-b2fd-984a6fbd9e30",
   "metadata": {},
   "outputs": [
    {
     "data": {
      "text/plain": [
       "'tiger'"
      ]
     },
     "execution_count": 19,
     "metadata": {},
     "output_type": "execute_result"
    }
   ],
   "source": [
    "animals.pop(3)"
   ]
  },
  {
   "cell_type": "code",
   "execution_count": 20,
   "id": "d146ec04-b189-49f0-8aa0-60a6d24f35f2",
   "metadata": {},
   "outputs": [
    {
     "name": "stdout",
     "output_type": "stream",
     "text": [
      "['cat', 'dog', 'hare', 'fox']\n"
     ]
    }
   ],
   "source": [
    "print(animals)"
   ]
  },
  {
   "cell_type": "code",
   "execution_count": 21,
   "id": "3c129d3e-75f2-446e-aac2-bd6a2d2def75",
   "metadata": {},
   "outputs": [
    {
     "data": {
      "text/plain": [
       "'fox'"
      ]
     },
     "execution_count": 21,
     "metadata": {},
     "output_type": "execute_result"
    }
   ],
   "source": [
    "animals.pop()"
   ]
  },
  {
   "cell_type": "code",
   "execution_count": 22,
   "id": "250420fd-58e4-4f89-a313-14ce2ce9a614",
   "metadata": {},
   "outputs": [
    {
     "name": "stdout",
     "output_type": "stream",
     "text": [
      "['cat', 'dog', 'hare']\n"
     ]
    }
   ],
   "source": [
    "print(animals)"
   ]
  },
  {
   "cell_type": "code",
   "execution_count": 23,
   "id": "9fc9b24c-6a33-4841-b7fa-ff175b669a5e",
   "metadata": {},
   "outputs": [],
   "source": [
    "#reverse"
   ]
  },
  {
   "cell_type": "code",
   "execution_count": 24,
   "id": "29e58bf8-b095-4764-91a6-0129da2ef83d",
   "metadata": {},
   "outputs": [],
   "source": [
    "animals.reverse()"
   ]
  },
  {
   "cell_type": "code",
   "execution_count": 25,
   "id": "d1b9e5ee-5b1f-4189-a57b-5c313a2956b2",
   "metadata": {},
   "outputs": [
    {
     "name": "stdout",
     "output_type": "stream",
     "text": [
      "['hare', 'dog', 'cat']\n"
     ]
    }
   ],
   "source": [
    "print(animals)"
   ]
  },
  {
   "cell_type": "code",
   "execution_count": 26,
   "id": "d9b1541d-b334-41af-8f78-970b795ea0de",
   "metadata": {},
   "outputs": [],
   "source": [
    "animals.sort()"
   ]
  },
  {
   "cell_type": "code",
   "execution_count": 56,
   "id": "79e39c6e-247d-4d7f-a449-a6a55f38ccbb",
   "metadata": {},
   "outputs": [
    {
     "name": "stdout",
     "output_type": "stream",
     "text": [
      "['cat', 'dog', 'hare']\n"
     ]
    }
   ],
   "source": [
    "print(animals)"
   ]
  },
  {
   "cell_type": "code",
   "execution_count": 58,
   "id": "24eef22c-bf9c-409f-b457-b21219575445",
   "metadata": {},
   "outputs": [],
   "source": [
    "#clear"
   ]
  },
  {
   "cell_type": "code",
   "execution_count": 62,
   "id": "a2dc9290-f92a-4524-b557-ca7b54500737",
   "metadata": {},
   "outputs": [],
   "source": [
    "animals.clear()"
   ]
  },
  {
   "cell_type": "code",
   "execution_count": 64,
   "id": "f74a9696-9fa0-4eeb-805f-336b1942f2e6",
   "metadata": {},
   "outputs": [
    {
     "name": "stdout",
     "output_type": "stream",
     "text": [
      "[]\n"
     ]
    }
   ],
   "source": [
    "print(animals)"
   ]
  },
  {
   "cell_type": "code",
   "execution_count": 66,
   "id": "3d15b6cd-52c1-4078-9c02-183013e237d9",
   "metadata": {},
   "outputs": [
    {
     "name": "stdout",
     "output_type": "stream",
     "text": [
      "0\n"
     ]
    }
   ],
   "source": [
    "print(len(animals))"
   ]
  },
  {
   "cell_type": "code",
   "execution_count": 70,
   "id": "a7fcf57e-1e09-47da-8014-a3112459584c",
   "metadata": {},
   "outputs": [],
   "source": [
    "animals = ['cat', 'dog', 'hare', 'tiger', 'fox']"
   ]
  },
  {
   "cell_type": "code",
   "execution_count": 72,
   "id": "20cc9c28-3c9d-41d0-ac49-eb5bf9ba4730",
   "metadata": {},
   "outputs": [],
   "source": [
    "animals.append('dog')"
   ]
  },
  {
   "cell_type": "code",
   "execution_count": 74,
   "id": "247cd1fb-fc97-4bae-9f33-b0ffd9b05695",
   "metadata": {},
   "outputs": [
    {
     "name": "stdout",
     "output_type": "stream",
     "text": [
      "['cat', 'dog', 'hare', 'tiger', 'fox', 'dog']\n"
     ]
    }
   ],
   "source": [
    "print(animals)"
   ]
  },
  {
   "cell_type": "code",
   "execution_count": 80,
   "id": "db7d3576-054c-40ad-ae21-50eea91c20ed",
   "metadata": {},
   "outputs": [
    {
     "name": "stdout",
     "output_type": "stream",
     "text": [
      "1\n"
     ]
    }
   ],
   "source": [
    "print(animals.count('fox'))"
   ]
  },
  {
   "cell_type": "code",
   "execution_count": 82,
   "id": "1a548877-4e00-41bb-9f81-9194a3963b6d",
   "metadata": {},
   "outputs": [
    {
     "name": "stdout",
     "output_type": "stream",
     "text": [
      "0\n"
     ]
    }
   ],
   "source": [
    "print(animals.count('rabbit'))"
   ]
  },
  {
   "cell_type": "code",
   "execution_count": 84,
   "id": "626c45c4-3d81-4fc4-ab70-d9c7dc04b140",
   "metadata": {},
   "outputs": [],
   "source": [
    "creature = animals"
   ]
  },
  {
   "cell_type": "code",
   "execution_count": 86,
   "id": "7004d81f-d45a-4f68-b3c5-5c355324e894",
   "metadata": {},
   "outputs": [
    {
     "name": "stdout",
     "output_type": "stream",
     "text": [
      "['cat', 'dog', 'hare', 'tiger', 'fox', 'dog']\n"
     ]
    }
   ],
   "source": [
    "print(animals)"
   ]
  },
  {
   "cell_type": "code",
   "execution_count": 88,
   "id": "4f796d31-3ef2-467b-aefd-1c55add3263f",
   "metadata": {},
   "outputs": [
    {
     "name": "stdout",
     "output_type": "stream",
     "text": [
      "['cat', 'dog', 'hare', 'tiger', 'fox', 'dog']\n"
     ]
    }
   ],
   "source": [
    "print(creature)"
   ]
  },
  {
   "cell_type": "code",
   "execution_count": 90,
   "id": "e296a561-f6da-4381-bca6-745ab1128212",
   "metadata": {},
   "outputs": [],
   "source": [
    "animals.sort()"
   ]
  },
  {
   "cell_type": "code",
   "execution_count": 92,
   "id": "d991bd9e-791d-4f05-8de1-6bd7cdb104f2",
   "metadata": {},
   "outputs": [
    {
     "name": "stdout",
     "output_type": "stream",
     "text": [
      "['cat', 'dog', 'dog', 'fox', 'hare', 'tiger']\n"
     ]
    }
   ],
   "source": [
    "print(animals)"
   ]
  },
  {
   "cell_type": "code",
   "execution_count": 94,
   "id": "1658dd26-b418-4eb1-8c4f-b1ec47d405fb",
   "metadata": {},
   "outputs": [
    {
     "name": "stdout",
     "output_type": "stream",
     "text": [
      "['cat', 'dog', 'dog', 'fox', 'hare', 'tiger']\n"
     ]
    }
   ],
   "source": [
    "print(creature)"
   ]
  },
  {
   "cell_type": "code",
   "execution_count": 96,
   "id": "a7b9ed6c-7c8d-4afd-ab5f-71cdd25ec65d",
   "metadata": {},
   "outputs": [],
   "source": [
    "animals =['cat', 'dog', 'hare', 'tiger', 'fox']"
   ]
  },
  {
   "cell_type": "code",
   "execution_count": 98,
   "id": "b2f0b894-2438-4353-926c-db78fe9ba766",
   "metadata": {},
   "outputs": [],
   "source": [
    "creature = animals.copy()"
   ]
  },
  {
   "cell_type": "code",
   "execution_count": 100,
   "id": "3b8928e7-41d6-4182-973a-77b6680c2bd9",
   "metadata": {},
   "outputs": [
    {
     "name": "stdout",
     "output_type": "stream",
     "text": [
      "['cat', 'dog', 'hare', 'tiger', 'fox']\n"
     ]
    }
   ],
   "source": [
    "print(animals)"
   ]
  },
  {
   "cell_type": "code",
   "execution_count": 104,
   "id": "9cc2485b-fb1d-4be9-b6fc-3b8433b1aa31",
   "metadata": {},
   "outputs": [
    {
     "name": "stdout",
     "output_type": "stream",
     "text": [
      "['cat', 'dog', 'hare', 'tiger', 'fox']\n"
     ]
    }
   ],
   "source": [
    "print(creature)"
   ]
  },
  {
   "cell_type": "code",
   "execution_count": 106,
   "id": "fdb14aec-6837-44ef-88fc-38580cf4ee2c",
   "metadata": {},
   "outputs": [],
   "source": [
    "animals.insert(2, 'rabbit')"
   ]
  },
  {
   "cell_type": "code",
   "execution_count": 110,
   "id": "c19ff09c-9a33-41ec-a450-c2f66da301bc",
   "metadata": {},
   "outputs": [
    {
     "name": "stdout",
     "output_type": "stream",
     "text": [
      "['cat', 'dog', 'rabbit', 'hare', 'tiger', 'fox']\n"
     ]
    }
   ],
   "source": [
    "print(animals)"
   ]
  },
  {
   "cell_type": "code",
   "execution_count": 112,
   "id": "f6b42115-0182-4bed-b2c2-4fc1ac4b49ad",
   "metadata": {},
   "outputs": [
    {
     "name": "stdout",
     "output_type": "stream",
     "text": [
      "['cat', 'dog', 'hare', 'tiger', 'fox']\n"
     ]
    }
   ],
   "source": [
    "print(creature)"
   ]
  },
  {
   "cell_type": "code",
   "execution_count": null,
   "id": "2f035db5-a3d9-4ca5-b233-7a1650636c9c",
   "metadata": {},
   "outputs": [],
   "source": []
  }
 ],
 "metadata": {
  "kernelspec": {
   "display_name": "Python 3 (ipykernel)",
   "language": "python",
   "name": "python3"
  },
  "language_info": {
   "codemirror_mode": {
    "name": "ipython",
    "version": 3
   },
   "file_extension": ".py",
   "mimetype": "text/x-python",
   "name": "python",
   "nbconvert_exporter": "python",
   "pygments_lexer": "ipython3",
   "version": "3.11.7"
  }
 },
 "nbformat": 4,
 "nbformat_minor": 5
}
