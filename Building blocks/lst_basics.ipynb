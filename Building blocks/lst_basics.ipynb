{
 "cells": [
  {
   "cell_type": "code",
   "execution_count": 16,
   "id": "e651fc75-c380-46c7-b52b-118242b1ac7b",
   "metadata": {},
   "outputs": [],
   "source": [
    "oceans =[\"pacific\", \"atlantic\", \"indian\", \"arctic\"]"
   ]
  },
  {
   "cell_type": "code",
   "execution_count": 18,
   "id": "a74e66ff-0801-4c45-9d79-43a5d33e4709",
   "metadata": {},
   "outputs": [
    {
     "name": "stdout",
     "output_type": "stream",
     "text": [
      "['pacific', 'atlantic', 'indian', 'arctic']\n"
     ]
    }
   ],
   "source": [
    "print(oceans)"
   ]
  },
  {
   "cell_type": "code",
   "execution_count": 20,
   "id": "1e1da64c-e6d0-4f05-a127-7d372befdeaa",
   "metadata": {},
   "outputs": [
    {
     "name": "stdout",
     "output_type": "stream",
     "text": [
      "<class 'list'>\n"
     ]
    }
   ],
   "source": [
    "print(type(oceans))"
   ]
  },
  {
   "cell_type": "code",
   "execution_count": 22,
   "id": "4113f82b-6814-424b-b914-4d9bd253eba0",
   "metadata": {},
   "outputs": [
    {
     "name": "stdout",
     "output_type": "stream",
     "text": [
      "4\n"
     ]
    }
   ],
   "source": [
    "print(len(oceans))"
   ]
  },
  {
   "cell_type": "code",
   "execution_count": null,
   "id": "b79395cb-65bb-4e14-8f6d-e198fbb34eee",
   "metadata": {},
   "outputs": [],
   "source": []
  }
 ],
 "metadata": {
  "kernelspec": {
   "display_name": "Python 3 (ipykernel)",
   "language": "python",
   "name": "python3"
  },
  "language_info": {
   "codemirror_mode": {
    "name": "ipython",
    "version": 3
   },
   "file_extension": ".py",
   "mimetype": "text/x-python",
   "name": "python",
   "nbconvert_exporter": "python",
   "pygments_lexer": "ipython3",
   "version": "3.11.7"
  }
 },
 "nbformat": 4,
 "nbformat_minor": 5
}
