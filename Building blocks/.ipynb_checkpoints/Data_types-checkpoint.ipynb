{
 "cells": [
  {
   "cell_type": "code",
   "execution_count": 2,
   "id": "d5eb3033-8dfb-48cb-92a3-8a22f415c91b",
   "metadata": {},
   "outputs": [],
   "source": [
    "planet = \"earth\""
   ]
  },
  {
   "cell_type": "code",
   "execution_count": 4,
   "id": "f23d5058-41e3-465d-ad43-e144917508e5",
   "metadata": {},
   "outputs": [],
   "source": [
    "price_apple = 1.5"
   ]
  },
  {
   "cell_type": "code",
   "execution_count": 6,
   "id": "db2d1362-f31c-4bb3-bff3-1acf74677745",
   "metadata": {},
   "outputs": [
    {
     "name": "stdout",
     "output_type": "stream",
     "text": [
      "<class 'str'>\n"
     ]
    }
   ],
   "source": [
    "print(type(planet))"
   ]
  },
  {
   "cell_type": "code",
   "execution_count": 8,
   "id": "71573731-6528-4bde-a2c1-abb0563a5340",
   "metadata": {},
   "outputs": [
    {
     "name": "stdout",
     "output_type": "stream",
     "text": [
      "<class 'float'>\n"
     ]
    }
   ],
   "source": [
    "print(type(price_apple))"
   ]
  },
  {
   "cell_type": "code",
   "execution_count": 10,
   "id": "73878468-92f2-4c88-99c4-49ff53190fd5",
   "metadata": {},
   "outputs": [],
   "source": [
    "apple = 10"
   ]
  },
  {
   "cell_type": "code",
   "execution_count": 20,
   "id": "0ae4a877-dcce-4046-964b-8d3c77092e7a",
   "metadata": {},
   "outputs": [
    {
     "name": "stdout",
     "output_type": "stream",
     "text": [
      "<class 'int'>\n"
     ]
    }
   ],
   "source": [
    "print(type(apple))"
   ]
  },
  {
   "cell_type": "code",
   "execution_count": 26,
   "id": "8a87ffe8-b9eb-464d-8016-d18167f00905",
   "metadata": {},
   "outputs": [
    {
     "data": {
      "text/plain": [
       "'EARTH'"
      ]
     },
     "execution_count": 26,
     "metadata": {},
     "output_type": "execute_result"
    }
   ],
   "source": [
    "planet.upper()"
   ]
  },
  {
   "cell_type": "code",
   "execution_count": null,
   "id": "19bdd7c9-1e78-4da1-9738-a34b8547ec65",
   "metadata": {},
   "outputs": [],
   "source": []
  }
 ],
 "metadata": {
  "kernelspec": {
   "display_name": "Python 3 (ipykernel)",
   "language": "python",
   "name": "python3"
  },
  "language_info": {
   "codemirror_mode": {
    "name": "ipython",
    "version": 3
   },
   "file_extension": ".py",
   "mimetype": "text/x-python",
   "name": "python",
   "nbconvert_exporter": "python",
   "pygments_lexer": "ipython3",
   "version": "3.11.7"
  }
 },
 "nbformat": 4,
 "nbformat_minor": 5
}
