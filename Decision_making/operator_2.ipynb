{
 "cells": [
  {
   "cell_type": "code",
   "execution_count": 1,
   "id": "b3b1cb25-bd77-4ee2-a5cf-e2d5fe927cb2",
   "metadata": {},
   "outputs": [],
   "source": [
    "fruit = ['apple', 'orange', 'kiwis', 'plums']"
   ]
  },
  {
   "cell_type": "code",
   "execution_count": 5,
   "id": "444770cb-27b1-4abc-a7d3-f656fdaf5453",
   "metadata": {},
   "outputs": [
    {
     "name": "stdout",
     "output_type": "stream",
     "text": [
      "lets have a kiwi milk shake\n"
     ]
    }
   ],
   "source": [
    "if 'kiwis' in fruit:\n",
    "    print(\"lets have a kiwi milk shake\")\n",
    "else:\n",
    "    print(\"no milk shake\")"
   ]
  },
  {
   "cell_type": "code",
   "execution_count": 7,
   "id": "66e6933f-0385-4024-a8d2-331dedc3de54",
   "metadata": {},
   "outputs": [
    {
     "name": "stdout",
     "output_type": "stream",
     "text": [
      "let us leave, we have all the fruits\n"
     ]
    }
   ],
   "source": [
    "if 'kiwis' not in fruit:\n",
    "    print(\"let us add some kiwis to the basket\")\n",
    "else:\n",
    "    print(\"let us leave, we have all the fruits\")"
   ]
  },
  {
   "cell_type": "code",
   "execution_count": 9,
   "id": "0f42dfdf-253a-4111-9227-61c85fa6b174",
   "metadata": {},
   "outputs": [],
   "source": [
    "avengers = {'ironman':'suit', 'captain':'shield', 'black widow':'sheer elegance'}"
   ]
  },
  {
   "cell_type": "code",
   "execution_count": 11,
   "id": "c36fb669-85f9-48e9-9196-d99950300a46",
   "metadata": {},
   "outputs": [
    {
     "name": "stdout",
     "output_type": "stream",
     "text": [
      "True\n"
     ]
    }
   ],
   "source": [
    "print('ironman' in avengers)"
   ]
  },
  {
   "cell_type": "code",
   "execution_count": 13,
   "id": "871c486f-5f43-4ea3-9467-831330ee85f6",
   "metadata": {},
   "outputs": [
    {
     "name": "stdout",
     "output_type": "stream",
     "text": [
      "False\n"
     ]
    }
   ],
   "source": [
    "print('suit' in avengers)"
   ]
  },
  {
   "cell_type": "code",
   "execution_count": 17,
   "id": "b58858f5-172c-403e-83d6-39decf71a799",
   "metadata": {},
   "outputs": [
    {
     "name": "stdout",
     "output_type": "stream",
     "text": [
      "True\n"
     ]
    }
   ],
   "source": [
    "print('suit' in avengers.values())"
   ]
  },
  {
   "cell_type": "code",
   "execution_count": 19,
   "id": "56770d3d-014e-4996-a5bd-70f880a1c8c3",
   "metadata": {},
   "outputs": [
    {
     "name": "stdout",
     "output_type": "stream",
     "text": [
      "True\n"
     ]
    }
   ],
   "source": [
    "# 'suit is a string'\n",
    "\n",
    "print(type('suit') is str)"
   ]
  },
  {
   "cell_type": "code",
   "execution_count": 21,
   "id": "4e5ac8e9-7e66-4a5b-bb54-4a2d3a52ed55",
   "metadata": {},
   "outputs": [
    {
     "data": {
      "text/plain": [
       "True"
      ]
     },
     "execution_count": 21,
     "metadata": {},
     "output_type": "execute_result"
    }
   ],
   "source": [
    "type(avengers) is dict"
   ]
  },
  {
   "cell_type": "code",
   "execution_count": 27,
   "id": "cf0948d7-86a5-4a7d-bf10-69a72b491bf8",
   "metadata": {},
   "outputs": [
    {
     "data": {
      "text/plain": [
       "True"
      ]
     },
     "execution_count": 27,
     "metadata": {},
     "output_type": "execute_result"
    }
   ],
   "source": [
    "type(fruit) is not tuple"
   ]
  },
  {
   "cell_type": "code",
   "execution_count": null,
   "id": "7ba84bc8-f97a-445a-87d8-39922f22d2c4",
   "metadata": {},
   "outputs": [],
   "source": []
  }
 ],
 "metadata": {
  "kernelspec": {
   "display_name": "Python 3 (ipykernel)",
   "language": "python",
   "name": "python3"
  },
  "language_info": {
   "codemirror_mode": {
    "name": "ipython",
    "version": 3
   },
   "file_extension": ".py",
   "mimetype": "text/x-python",
   "name": "python",
   "nbconvert_exporter": "python",
   "pygments_lexer": "ipython3",
   "version": "3.11.7"
  }
 },
 "nbformat": 4,
 "nbformat_minor": 5
}
