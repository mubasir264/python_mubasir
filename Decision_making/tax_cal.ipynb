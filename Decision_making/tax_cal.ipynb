{
 "cells": [
  {
   "cell_type": "code",
   "execution_count": 3,
   "id": "9c8b7baa-c6f6-400a-881b-6502312ae988",
   "metadata": {},
   "outputs": [
    {
     "name": "stdout",
     "output_type": "stream",
     "text": [
      "hellow there, what is your income ?\n"
     ]
    },
    {
     "name": "stdin",
     "output_type": "stream",
     "text": [
      "\n",
      "Enter your income here:\n",
      "\t 100000\n"
     ]
    },
    {
     "name": "stdout",
     "output_type": "stream",
     "text": [
      "\n",
      "you are liable to pay an amount of $24000.0 in taxes\n",
      "\n"
     ]
    }
   ],
   "source": [
    "print(\"hellow there, what is your income ?\")\n",
    "\n",
    "income = int(input(\"\\nEnter your income here:\\n\\t\"))\n",
    "\n",
    "if income <=0:\n",
    "    taxes = 0\n",
    "    print(\"you need assitance from walfare department\")\n",
    "    print(\"we are with you!\\n\")\n",
    "elif income > 0 and income < 9950:\n",
    "    taxes = income * 0.1\n",
    "elif income >= 9950 and income < 40525:\n",
    "    taxes = income * 0.12\n",
    "elif income >= 40525 and income < 86375:\n",
    "    taxes = income * 0.22\n",
    "elif income >= 86375 and income < 164925:\n",
    "    taxes = income * 0.24\n",
    "elif income >=164925 and income < 209425:\n",
    "    taxes = income * 0.32\n",
    "elif income > 209425 and income < 523600:\n",
    "    taxes = income * 0.35\n",
    "elif income >= 523600:\n",
    "    taxes = income * 0.37\n",
    "else:\n",
    "    print(\"\\nsomething is wrong,you did not enter the correct number\\n\")\n",
    "print(f\"\\nyou are liable to pay an amount of ${taxes} in taxes\\n\")    \n",
    "    "
   ]
  },
  {
   "cell_type": "code",
   "execution_count": null,
   "id": "1f4556e8-0aa3-4fb8-a515-6d2086552395",
   "metadata": {},
   "outputs": [],
   "source": []
  }
 ],
 "metadata": {
  "kernelspec": {
   "display_name": "Python 3 (ipykernel)",
   "language": "python",
   "name": "python3"
  },
  "language_info": {
   "codemirror_mode": {
    "name": "ipython",
    "version": 3
   },
   "file_extension": ".py",
   "mimetype": "text/x-python",
   "name": "python",
   "nbconvert_exporter": "python",
   "pygments_lexer": "ipython3",
   "version": "3.11.7"
  }
 },
 "nbformat": 4,
 "nbformat_minor": 5
}
