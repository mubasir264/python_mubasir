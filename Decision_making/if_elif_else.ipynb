{
 "cells": [
  {
   "cell_type": "code",
   "execution_count": 13,
   "id": "7710b5dd-80a1-4aac-bcae-32960d87c5f1",
   "metadata": {},
   "outputs": [
    {
     "name": "stdin",
     "output_type": "stream",
     "text": [
      " 0\n"
     ]
    },
    {
     "name": "stdout",
     "output_type": "stream",
     "text": [
      "you need noy pay taxes\n",
      "you need assitance from the welfare department\n"
     ]
    }
   ],
   "source": [
    "income = int(input())\n",
    "\n",
    "if income <= 0:\n",
    "    print(\"you need noy pay taxes\")\n",
    "    print(\"you need assitance from the welfare department\")\n",
    "else:\n",
    "    print(\"you need to pay taxes\")"
   ]
  },
  {
   "cell_type": "code",
   "execution_count": null,
   "id": "0470dd49-1d7d-468b-b537-bcd12c58ee9d",
   "metadata": {},
   "outputs": [],
   "source": []
  }
 ],
 "metadata": {
  "kernelspec": {
   "display_name": "Python 3 (ipykernel)",
   "language": "python",
   "name": "python3"
  },
  "language_info": {
   "codemirror_mode": {
    "name": "ipython",
    "version": 3
   },
   "file_extension": ".py",
   "mimetype": "text/x-python",
   "name": "python",
   "nbconvert_exporter": "python",
   "pygments_lexer": "ipython3",
   "version": "3.11.7"
  }
 },
 "nbformat": 4,
 "nbformat_minor": 5
}
