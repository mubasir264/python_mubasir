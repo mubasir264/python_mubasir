{
 "cells": [
  {
   "cell_type": "code",
   "execution_count": 2,
   "id": "1f3df143-5e30-4391-8dec-a9efd74027ec",
   "metadata": {},
   "outputs": [],
   "source": [
    "planet = \"earth\""
   ]
  },
  {
   "cell_type": "code",
   "execution_count": 4,
   "id": "1380aacb-a80f-4515-8510-79e620c89c66",
   "metadata": {},
   "outputs": [
    {
     "name": "stdout",
     "output_type": "stream",
     "text": [
      "earth\n"
     ]
    }
   ],
   "source": [
    "print(planet)"
   ]
  },
  {
   "cell_type": "code",
   "execution_count": 6,
   "id": "4b4ddd76-3248-4b0f-818c-4ce1bfea6f4d",
   "metadata": {},
   "outputs": [
    {
     "name": "stdout",
     "output_type": "stream",
     "text": [
      "5\n"
     ]
    }
   ],
   "source": [
    "print(len(planet))"
   ]
  },
  {
   "cell_type": "code",
   "execution_count": 12,
   "id": "240db602-a468-4e1d-857a-ca98113daf65",
   "metadata": {},
   "outputs": [
    {
     "name": "stdout",
     "output_type": "stream",
     "text": [
      "e\n"
     ]
    }
   ],
   "source": [
    "print(planet[0])"
   ]
  },
  {
   "cell_type": "code",
   "execution_count": 14,
   "id": "e84149f0-2584-4bb2-8014-6d831ba41bfa",
   "metadata": {},
   "outputs": [
    {
     "name": "stdout",
     "output_type": "stream",
     "text": [
      "h\n"
     ]
    }
   ],
   "source": [
    "print(planet[4])"
   ]
  },
  {
   "cell_type": "code",
   "execution_count": 16,
   "id": "55bd2d24-7daf-47ac-a8d5-6c4c25d0043e",
   "metadata": {},
   "outputs": [
    {
     "ename": "IndexError",
     "evalue": "string index out of range",
     "output_type": "error",
     "traceback": [
      "\u001b[1;31m---------------------------------------------------------------------------\u001b[0m",
      "\u001b[1;31mIndexError\u001b[0m                                Traceback (most recent call last)",
      "Cell \u001b[1;32mIn[16], line 1\u001b[0m\n\u001b[1;32m----> 1\u001b[0m \u001b[38;5;28mprint\u001b[39m(planet[\u001b[38;5;241m8\u001b[39m])\n",
      "\u001b[1;31mIndexError\u001b[0m: string index out of range"
     ]
    }
   ],
   "source": [
    "#beyond 4 so it is index error\n",
    "print(planet[8])"
   ]
  },
  {
   "cell_type": "code",
   "execution_count": null,
   "id": "bade50e5-2fcf-4754-9ffb-c2d1e94ec7ea",
   "metadata": {},
   "outputs": [],
   "source": []
  }
 ],
 "metadata": {
  "kernelspec": {
   "display_name": "Python 3 (ipykernel)",
   "language": "python",
   "name": "python3"
  },
  "language_info": {
   "codemirror_mode": {
    "name": "ipython",
    "version": 3
   },
   "file_extension": ".py",
   "mimetype": "text/x-python",
   "name": "python",
   "nbconvert_exporter": "python",
   "pygments_lexer": "ipython3",
   "version": "3.11.7"
  }
 },
 "nbformat": 4,
 "nbformat_minor": 5
}
