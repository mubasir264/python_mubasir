{
 "cells": [
  {
   "cell_type": "code",
   "execution_count": 2,
   "id": "d727f6f8-6afb-4396-8553-64e00dc99f5d",
   "metadata": {},
   "outputs": [],
   "source": [
    "quote = \"the earth has music for those who listen\""
   ]
  },
  {
   "cell_type": "code",
   "execution_count": 4,
   "id": "456d3651-7684-4685-a57f-787c46466f07",
   "metadata": {},
   "outputs": [
    {
     "name": "stdout",
     "output_type": "stream",
     "text": [
      "THE EARTH HAS MUSIC FOR THOSE WHO LISTEN\n"
     ]
    }
   ],
   "source": [
    "print(quote.upper())"
   ]
  },
  {
   "cell_type": "code",
   "execution_count": 6,
   "id": "f09c8121-c6fb-4a0f-b0cd-792a946a5a08",
   "metadata": {},
   "outputs": [],
   "source": [
    "new_quote =quote.upper()"
   ]
  },
  {
   "cell_type": "code",
   "execution_count": 8,
   "id": "e727e3da-7ed2-40d0-ac7b-a271fd7611e1",
   "metadata": {},
   "outputs": [
    {
     "name": "stdout",
     "output_type": "stream",
     "text": [
      "the earth has music for those who listen\n"
     ]
    }
   ],
   "source": [
    "print(quote)"
   ]
  },
  {
   "cell_type": "code",
   "execution_count": 10,
   "id": "d8eff5ba-de57-41b8-b640-550897ee838c",
   "metadata": {},
   "outputs": [
    {
     "name": "stdout",
     "output_type": "stream",
     "text": [
      "The earth has music for those who listen\n"
     ]
    }
   ],
   "source": [
    "print(quote.capitalize())"
   ]
  },
  {
   "cell_type": "code",
   "execution_count": 12,
   "id": "c32f2ee3-fcc4-4024-8d62-0c88860d4842",
   "metadata": {},
   "outputs": [
    {
     "name": "stdout",
     "output_type": "stream",
     "text": [
      "The Earth Has Music For Those Who Listen\n"
     ]
    }
   ],
   "source": [
    "print(quote.title())"
   ]
  },
  {
   "cell_type": "code",
   "execution_count": 16,
   "id": "ef6e28c4-64a5-4529-8e61-9b6ad1dce73f",
   "metadata": {},
   "outputs": [
    {
     "name": "stdout",
     "output_type": "stream",
     "text": [
      "5\n"
     ]
    }
   ],
   "source": [
    "print(quote.count('h'))"
   ]
  },
  {
   "cell_type": "code",
   "execution_count": 18,
   "id": "b16c7ce4-b68b-4e9c-a3aa-b3cb8b194d93",
   "metadata": {},
   "outputs": [
    {
     "name": "stdout",
     "output_type": "stream",
     "text": [
      "1\n"
     ]
    }
   ],
   "source": [
    "print(quote.count('music'))"
   ]
  },
  {
   "cell_type": "code",
   "execution_count": 20,
   "id": "ff706955-b7db-4638-9b69-f41ac0bb51b5",
   "metadata": {},
   "outputs": [
    {
     "name": "stdout",
     "output_type": "stream",
     "text": [
      "14\n"
     ]
    }
   ],
   "source": [
    "print(quote.find('music'))"
   ]
  },
  {
   "cell_type": "code",
   "execution_count": 26,
   "id": "4d7e03cd-50e3-42e5-b360-3eebcd8fd2cc",
   "metadata": {},
   "outputs": [
    {
     "name": "stdout",
     "output_type": "stream",
     "text": [
      "1\n"
     ]
    }
   ],
   "source": [
    "print(quote.find('h'))"
   ]
  },
  {
   "cell_type": "code",
   "execution_count": 28,
   "id": "2dbe85b9-b598-4ddc-bd4a-e396d44d4346",
   "metadata": {},
   "outputs": [
    {
     "name": "stdout",
     "output_type": "stream",
     "text": [
      "True\n"
     ]
    }
   ],
   "source": [
    "print(quote.endswith('listen'))"
   ]
  },
  {
   "cell_type": "code",
   "execution_count": 30,
   "id": "0debacee-09ea-468d-8a3e-f96d98d08d93",
   "metadata": {},
   "outputs": [
    {
     "name": "stdout",
     "output_type": "stream",
     "text": [
      "False\n"
     ]
    }
   ],
   "source": [
    "print(quote.startswith('listen'))"
   ]
  },
  {
   "cell_type": "code",
   "execution_count": 34,
   "id": "493a997a-626b-4253-b9fb-13cc85f8ed64",
   "metadata": {},
   "outputs": [
    {
     "name": "stdout",
     "output_type": "stream",
     "text": [
      "the nature has music for those who listen\n"
     ]
    }
   ],
   "source": [
    "print(quote.replace('earth', 'nature'))"
   ]
  },
  {
   "cell_type": "code",
   "execution_count": 52,
   "id": "62814f4c-c496-4b3f-8647-fd9f6c530896",
   "metadata": {},
   "outputs": [
    {
     "name": "stdout",
     "output_type": "stream",
     "text": [
      "thE Earth has music for thosE who listEn\n"
     ]
    }
   ],
   "source": [
    "print(quote.replace ('e', 'E'))"
   ]
  },
  {
   "cell_type": "code",
   "execution_count": 56,
   "id": "3b06363d-523f-4233-a09e-9b6f9ad1f8f7",
   "metadata": {},
   "outputs": [],
   "source": [
    "str1=\"python\""
   ]
  },
  {
   "cell_type": "code",
   "execution_count": 82,
   "id": "2364fd8d-422c-4bb2-a00f-b5d68ddf3da5",
   "metadata": {},
   "outputs": [
    {
     "ename": "TypeError",
     "evalue": "'str' object does not support item assignment",
     "output_type": "error",
     "traceback": [
      "\u001b[1;31m---------------------------------------------------------------------------\u001b[0m",
      "\u001b[1;31mTypeError\u001b[0m                                 Traceback (most recent call last)",
      "Cell \u001b[1;32mIn[82], line 2\u001b[0m\n\u001b[0;32m      1\u001b[0m Planet \u001b[38;5;241m=\u001b[39m \u001b[38;5;124m\"\u001b[39m\u001b[38;5;124mearth\u001b[39m\u001b[38;5;124m\"\u001b[39m\n\u001b[1;32m----> 2\u001b[0m Planet[\u001b[38;5;241m0\u001b[39m] \u001b[38;5;241m=\u001b[39m\u001b[38;5;124m\"\u001b[39m\u001b[38;5;124mE\u001b[39m\u001b[38;5;124m\"\u001b[39m\n",
      "\u001b[1;31mTypeError\u001b[0m: 'str' object does not support item assignment"
     ]
    }
   ],
   "source": [
    "Planet = \"earth\"\n",
    "Planet[0] =\"E\""
   ]
  },
  {
   "cell_type": "code",
   "execution_count": 88,
   "id": "b93285b6-4100-498f-acd4-36f812133b89",
   "metadata": {},
   "outputs": [
    {
     "name": "stdout",
     "output_type": "stream",
     "text": [
      "The earth has music for those who listen\n"
     ]
    }
   ],
   "source": [
    "quote= \"the earth has music for those who listen\"\n",
    "print(quote.capitalize())"
   ]
  },
  {
   "cell_type": "code",
   "execution_count": null,
   "id": "8fb2f0de-0fd8-4817-aaba-1176f75bec5a",
   "metadata": {},
   "outputs": [],
   "source": []
  }
 ],
 "metadata": {
  "kernelspec": {
   "display_name": "Python 3 (ipykernel)",
   "language": "python",
   "name": "python3"
  },
  "language_info": {
   "codemirror_mode": {
    "name": "ipython",
    "version": 3
   },
   "file_extension": ".py",
   "mimetype": "text/x-python",
   "name": "python",
   "nbconvert_exporter": "python",
   "pygments_lexer": "ipython3",
   "version": "3.11.7"
  }
 },
 "nbformat": 4,
 "nbformat_minor": 5
}
