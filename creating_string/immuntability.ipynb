{
 "cells": [
  {
   "cell_type": "code",
   "execution_count": 2,
   "id": "c9aec7d0-f426-4937-b012-3527427bcab3",
   "metadata": {},
   "outputs": [],
   "source": [
    "planet = \"earth\""
   ]
  },
  {
   "cell_type": "code",
   "execution_count": 4,
   "id": "bc27cdfd-112a-43ee-aff2-be7f2f6d8645",
   "metadata": {},
   "outputs": [
    {
     "name": "stdout",
     "output_type": "stream",
     "text": [
      "e\n"
     ]
    }
   ],
   "source": [
    "print(planet[0])"
   ]
  },
  {
   "cell_type": "code",
   "execution_count": 6,
   "id": "95ef0adb-62f1-4ef5-b58a-46e29a7fb8fb",
   "metadata": {},
   "outputs": [
    {
     "ename": "TypeError",
     "evalue": "'str' object does not support item assignment",
     "output_type": "error",
     "traceback": [
      "\u001b[1;31m---------------------------------------------------------------------------\u001b[0m",
      "\u001b[1;31mTypeError\u001b[0m                                 Traceback (most recent call last)",
      "Cell \u001b[1;32mIn[6], line 1\u001b[0m\n\u001b[1;32m----> 1\u001b[0m planet[\u001b[38;5;241m0\u001b[39m] \u001b[38;5;241m=\u001b[39m \u001b[38;5;124m\"\u001b[39m\u001b[38;5;124mE\u001b[39m\u001b[38;5;124m\"\u001b[39m\n",
      "\u001b[1;31mTypeError\u001b[0m: 'str' object does not support item assignment"
     ]
    }
   ],
   "source": [
    "planet[0] = \"E\""
   ]
  },
  {
   "cell_type": "code",
   "execution_count": 8,
   "id": "af798db0-e882-4dce-89cd-25e216029715",
   "metadata": {},
   "outputs": [],
   "source": [
    "planet = \"Earth\""
   ]
  },
  {
   "cell_type": "code",
   "execution_count": 10,
   "id": "a2c2a615-2e54-4877-a1ba-6778a0615d96",
   "metadata": {},
   "outputs": [
    {
     "name": "stdout",
     "output_type": "stream",
     "text": [
      "Earth\n"
     ]
    }
   ],
   "source": [
    "print(planet)"
   ]
  },
  {
   "cell_type": "code",
   "execution_count": null,
   "id": "a0563cc1-cbee-46a5-a759-8cbbc9ba186b",
   "metadata": {},
   "outputs": [],
   "source": []
  }
 ],
 "metadata": {
  "kernelspec": {
   "display_name": "Python 3 (ipykernel)",
   "language": "python",
   "name": "python3"
  },
  "language_info": {
   "codemirror_mode": {
    "name": "ipython",
    "version": 3
   },
   "file_extension": ".py",
   "mimetype": "text/x-python",
   "name": "python",
   "nbconvert_exporter": "python",
   "pygments_lexer": "ipython3",
   "version": "3.11.7"
  }
 },
 "nbformat": 4,
 "nbformat_minor": 5
}
