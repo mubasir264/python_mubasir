{
 "cells": [
  {
   "cell_type": "code",
   "execution_count": 2,
   "id": "45c3b12f-da55-4cfe-95da-be40eaa1584f",
   "metadata": {},
   "outputs": [],
   "source": [
    "jedi = \"Luke Skywalker\""
   ]
  },
  {
   "cell_type": "code",
   "execution_count": 4,
   "id": "439d5cc3-259f-4c07-949c-61e7bcc9a3d5",
   "metadata": {},
   "outputs": [],
   "source": [
    "planet = \"tatooine\""
   ]
  },
  {
   "cell_type": "code",
   "execution_count": 6,
   "id": "9b1101fb-5de9-44cf-8ab8-174a094d1b8e",
   "metadata": {},
   "outputs": [],
   "source": [
    "planet = \"earth\""
   ]
  },
  {
   "cell_type": "code",
   "execution_count": 8,
   "id": "3000460f-7cab-4575-b4b1-ad772a26656e",
   "metadata": {},
   "outputs": [
    {
     "name": "stdout",
     "output_type": "stream",
     "text": [
      "earth\n"
     ]
    }
   ],
   "source": [
    "print(planet)"
   ]
  },
  {
   "cell_type": "code",
   "execution_count": 10,
   "id": "43c172fe-5249-40cf-b5ed-303961869ed7",
   "metadata": {},
   "outputs": [],
   "source": [
    "planet = 'earth'"
   ]
  },
  {
   "cell_type": "code",
   "execution_count": 12,
   "id": "c52fabb1-febc-4eeb-9c7f-6fe7e3bf1657",
   "metadata": {},
   "outputs": [
    {
     "name": "stdout",
     "output_type": "stream",
     "text": [
      "earth\n"
     ]
    }
   ],
   "source": [
    "print(planet)"
   ]
  },
  {
   "cell_type": "code",
   "execution_count": 14,
   "id": "a34b34de-0383-452f-96d5-39efc2a87c3c",
   "metadata": {},
   "outputs": [
    {
     "name": "stdout",
     "output_type": "stream",
     "text": [
      "<class 'str'>\n"
     ]
    }
   ],
   "source": [
    "print(type(planet))"
   ]
  },
  {
   "cell_type": "code",
   "execution_count": 26,
   "id": "e09ef212-3259-4ed3-8516-33de4e908a81",
   "metadata": {},
   "outputs": [],
   "source": [
    "statement_one ='i live on \"earth\"'"
   ]
  },
  {
   "cell_type": "code",
   "execution_count": 28,
   "id": "016d0616-d63d-4590-8309-5fdc747438bb",
   "metadata": {},
   "outputs": [],
   "source": [
    "statement_two =\"earth isn't for sale\""
   ]
  },
  {
   "cell_type": "code",
   "execution_count": 30,
   "id": "86076eda-2a99-42db-85a0-ed8f718022c6",
   "metadata": {},
   "outputs": [
    {
     "name": "stdout",
     "output_type": "stream",
     "text": [
      "i live on \"earth\"\n"
     ]
    }
   ],
   "source": [
    "print(statement_one)"
   ]
  },
  {
   "cell_type": "code",
   "execution_count": 32,
   "id": "44958640-ea73-4e83-baef-9f00a6d184da",
   "metadata": {},
   "outputs": [
    {
     "name": "stdout",
     "output_type": "stream",
     "text": [
      "earth isn't for sale\n"
     ]
    }
   ],
   "source": [
    "print(statement_two)"
   ]
  },
  {
   "cell_type": "code",
   "execution_count": null,
   "id": "0a69fd72-30e4-421c-b6eb-c36ca7a615cc",
   "metadata": {},
   "outputs": [],
   "source": []
  }
 ],
 "metadata": {
  "kernelspec": {
   "display_name": "Python 3 (ipykernel)",
   "language": "python",
   "name": "python3"
  },
  "language_info": {
   "codemirror_mode": {
    "name": "ipython",
    "version": 3
   },
   "file_extension": ".py",
   "mimetype": "text/x-python",
   "name": "python",
   "nbconvert_exporter": "python",
   "pygments_lexer": "ipython3",
   "version": "3.11.7"
  }
 },
 "nbformat": 4,
 "nbformat_minor": 5
}
