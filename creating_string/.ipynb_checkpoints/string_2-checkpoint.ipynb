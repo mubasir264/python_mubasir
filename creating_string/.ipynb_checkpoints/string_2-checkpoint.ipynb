{
 "cells": [
  {
   "cell_type": "code",
   "execution_count": 4,
   "id": "e1c90288-687c-4638-ac1e-7398d8cfb658",
   "metadata": {},
   "outputs": [],
   "source": [
    "planet = \"earth\""
   ]
  },
  {
   "cell_type": "code",
   "execution_count": 6,
   "id": "c5d80bbc-e907-426b-ae6a-0a1cae70e960",
   "metadata": {},
   "outputs": [
    {
     "name": "stdout",
     "output_type": "stream",
     "text": [
      "h\n"
     ]
    }
   ],
   "source": [
    "print(planet[-1])"
   ]
  },
  {
   "cell_type": "code",
   "execution_count": 8,
   "id": "37ab61f9-576b-4ccd-9195-6288e58bd929",
   "metadata": {},
   "outputs": [
    {
     "name": "stdout",
     "output_type": "stream",
     "text": [
      "t\n"
     ]
    }
   ],
   "source": [
    "print(planet[-2])"
   ]
  },
  {
   "cell_type": "code",
   "execution_count": 10,
   "id": "cfffb6ac-0afe-42f7-aee1-461b147cbccd",
   "metadata": {},
   "outputs": [],
   "source": [
    "planet = \"beautiful earth\""
   ]
  },
  {
   "cell_type": "code",
   "execution_count": 12,
   "id": "11a0610b-4fc8-4e6f-b7c9-2a8c5f117315",
   "metadata": {},
   "outputs": [
    {
     "name": "stdout",
     "output_type": "stream",
     "text": [
      "15\n"
     ]
    }
   ],
   "source": [
    "print(len(planet))"
   ]
  },
  {
   "cell_type": "code",
   "execution_count": 14,
   "id": "cf78b093-84f6-48ab-855a-620868d6bde4",
   "metadata": {},
   "outputs": [
    {
     "name": "stdout",
     "output_type": "stream",
     "text": [
      "beaut\n"
     ]
    }
   ],
   "source": [
    "print(planet[0:5])"
   ]
  },
  {
   "cell_type": "code",
   "execution_count": 18,
   "id": "be92744a-a9f1-4e20-a580-e7dc20aa9024",
   "metadata": {},
   "outputs": [
    {
     "name": "stdout",
     "output_type": "stream",
     "text": [
      "beautiful e\n"
     ]
    }
   ],
   "source": [
    "print(planet[0:11])"
   ]
  },
  {
   "cell_type": "code",
   "execution_count": 20,
   "id": "35ffd0ad-2db5-4d1a-85fb-39c309a81a26",
   "metadata": {},
   "outputs": [
    {
     "name": "stdout",
     "output_type": "stream",
     "text": [
      "ful ear\n"
     ]
    }
   ],
   "source": [
    "print(planet[6:13])"
   ]
  },
  {
   "cell_type": "code",
   "execution_count": 22,
   "id": "44b7d0d3-ecc3-4a66-a111-8b8aeaabfd7b",
   "metadata": {},
   "outputs": [
    {
     "name": "stdout",
     "output_type": "stream",
     "text": [
      "beautiful ear\n"
     ]
    }
   ],
   "source": [
    "print(planet[:13])"
   ]
  },
  {
   "cell_type": "code",
   "execution_count": 24,
   "id": "7a03d8a4-7a3f-44d0-bd57-b566039390bc",
   "metadata": {},
   "outputs": [
    {
     "name": "stdout",
     "output_type": "stream",
     "text": [
      "tiful earth\n"
     ]
    }
   ],
   "source": [
    "print(planet[4:])"
   ]
  },
  {
   "cell_type": "code",
   "execution_count": 26,
   "id": "f1917ed7-8cb0-43be-9a10-a8df71d59d5d",
   "metadata": {},
   "outputs": [
    {
     "name": "stdout",
     "output_type": "stream",
     "text": [
      "batfler\n"
     ]
    }
   ],
   "source": [
    "print(planet[0:13:2])"
   ]
  },
  {
   "cell_type": "code",
   "execution_count": 28,
   "id": "4f3b18e3-5a50-4eed-8a2e-7f36220ce9a6",
   "metadata": {},
   "outputs": [
    {
     "name": "stdout",
     "output_type": "stream",
     "text": [
      "buf r\n"
     ]
    }
   ],
   "source": [
    "print(planet[::3])"
   ]
  },
  {
   "cell_type": "code",
   "execution_count": null,
   "id": "7acedd76-9ece-42c3-9f66-377a8b6705fa",
   "metadata": {},
   "outputs": [],
   "source": []
  }
 ],
 "metadata": {
  "kernelspec": {
   "display_name": "Python 3 (ipykernel)",
   "language": "python",
   "name": "python3"
  },
  "language_info": {
   "codemirror_mode": {
    "name": "ipython",
    "version": 3
   },
   "file_extension": ".py",
   "mimetype": "text/x-python",
   "name": "python",
   "nbconvert_exporter": "python",
   "pygments_lexer": "ipython3",
   "version": "3.11.7"
  }
 },
 "nbformat": 4,
 "nbformat_minor": 5
}
